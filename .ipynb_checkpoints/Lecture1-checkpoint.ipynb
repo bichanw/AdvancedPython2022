{
 "cells": [
  {
   "cell_type": "markdown",
   "metadata": {},
   "source": [
    "# Lecture 1: Visualization"
   ]
  },
  {
   "cell_type": "markdown",
   "metadata": {},
   "source": [
    "In this notebook we will learn about how to visualize data with different methods."
   ]
  },
  {
   "cell_type": "code",
   "execution_count": 41,
   "metadata": {},
   "outputs": [],
   "source": [
    "# import some of our best friends\n",
    "import numpy as np\n",
    "import matplotlib.pyplot as plt\n",
    "import seaborn as sns # fancy plots\n",
    "import pandas as pd # fancy plots need to come from pd data structure"
   ]
  },
  {
   "cell_type": "markdown",
   "metadata": {},
   "source": [
    "Let's create some artificial dataset first. Simulate 2 random [Gaussian distributions](https://www.geogebra.org/m/fqZMa34Q)."
   ]
  },
  {
   "cell_type": "code",
   "execution_count": 8,
   "metadata": {},
   "outputs": [],
   "source": [
    "# simulate 2 groups with different mean and standard deviation\n",
    "nsamples = 50\n",
    "\n",
    "y1 = np.random.randn(nsamples) * 5 + 50\n",
    "y2 = np.random.randn(nsamples) * 3 + 70"
   ]
  },
  {
   "cell_type": "code",
   "execution_count": 31,
   "metadata": {},
   "outputs": [],
   "source": [
    "# calculate basic properties to plot\n",
    "M = [np.mean(y) for y in [y1,y2]] # mean\n",
    "V = [np.std(y) for y in [y1,y2]]  # variance"
   ]
  },
  {
   "cell_type": "markdown",
   "metadata": {},
   "source": [
    "Bar plots!"
   ]
  },
  {
   "cell_type": "code",
   "execution_count": 35,
   "metadata": {},
   "outputs": [
    {
     "data": {
      "image/png": "[encoded data removed]",
      "text/plain": [
       "<Figure size 576x216 with 2 Axes>"
      ]
     },
     "metadata": {
      "needs_background": "light"
     },
     "output_type": "display_data"
    }
   ],
   "source": [
    "# create 3 plots side by side\n",
    "fig,ax = plt.subplots(1,2, figsize=(8,3))\n",
    "\n",
    "# basic bar plot\n",
    "ax[0].bar([1,2],M);\n",
    "ax[0].set(xticks=[1,2],xticklabels=['y1','y2']);\n",
    "\n",
    "# add error bars\n",
    "ax[1].bar([1,2],M,yerr=V);\n",
    "ax[1].set(xticks=[1,2],xticklabels=['y1','y2']);"
   ]
  },
  {
   "cell_type": "markdown",
   "metadata": {},
   "source": [
    "Fancy bar plots!"
   ]
  },
  {
   "cell_type": "code",
   "execution_count": 56,
   "metadata": {},
   "outputs": [],
   "source": [
    "# create a panda DataFrame - like a spreadsheet\n",
    "df = pd.DataFrame(np.vstack((y1,y2)).T,columns = ['y1','y2'])"
   ]
  },
  {
   "cell_type": "code",
   "execution_count": 57,
   "metadata": {
    "collapsed": true,
    "jupyter": {
     "outputs_hidden": true
    }
   },
   "outputs": [
    {
     "data": {
      "text/html": [
       "<div>\n",
       "<style scoped>\n",
       "    .dataframe tbody tr th:only-of-type {\n",
       "        vertical-align: middle;\n",
       "    }\n",
       "\n",
       "    .dataframe tbody tr th {\n",
       "        vertical-align: top;\n",
       "    }\n",
       "\n",
       "    .dataframe thead th {\n",
       "        text-align: right;\n",
       "    }\n",
       "</style>\n",
       "<table border=\"1\" class=\"dataframe\">\n",
       "  <thead>\n",
       "    <tr style=\"text-align: right;\">\n",
       "      <th></th>\n",
       "      <th>y1</th>\n",
       "      <th>y2</th>\n",
       "    </tr>\n",
       "  </thead>\n",
       "  <tbody>\n",
       "    <tr>\n",
       "      <td>0</td>\n",
       "      <td>49.728695</td>\n",
       "      <td>67.787917</td>\n",
       "    </tr>\n",
       "    <tr>\n",
       "      <td>1</td>\n",
       "      <td>38.924266</td>\n",
       "      <td>71.098119</td>\n",
       "    </tr>\n",
       "    <tr>\n",
       "      <td>2</td>\n",
       "      <td>60.283316</td>\n",
       "      <td>71.207146</td>\n",
       "    </tr>\n",
       "    <tr>\n",
       "      <td>3</td>\n",
       "      <td>49.641161</td>\n",
       "      <td>69.920435</td>\n",
       "    </tr>\n",
       "    <tr>\n",
       "      <td>4</td>\n",
       "      <td>41.030960</td>\n",
       "      <td>71.823840</td>\n",
       "    </tr>\n",
       "    <tr>\n",
       "      <td>5</td>\n",
       "      <td>51.161518</td>\n",
       "      <td>65.736269</td>\n",
       "    </tr>\n",
       "    <tr>\n",
       "      <td>6</td>\n",
       "      <td>44.227944</td>\n",
       "      <td>69.543932</td>\n",
       "    </tr>\n",
       "    <tr>\n",
       "      <td>7</td>\n",
       "      <td>44.622137</td>\n",
       "      <td>70.930356</td>\n",
       "    </tr>\n",
       "    <tr>\n",
       "      <td>8</td>\n",
       "      <td>45.314580</td>\n",
       "      <td>69.213909</td>\n",
       "    </tr>\n",
       "    <tr>\n",
       "      <td>9</td>\n",
       "      <td>50.572917</td>\n",
       "      <td>71.659389</td>\n",
       "    </tr>\n",
       "    <tr>\n",
       "      <td>10</td>\n",
       "      <td>47.563057</td>\n",
       "      <td>69.704317</td>\n",
       "    </tr>\n",
       "    <tr>\n",
       "      <td>11</td>\n",
       "      <td>44.998258</td>\n",
       "      <td>73.408333</td>\n",
       "    </tr>\n",
       "    <tr>\n",
       "      <td>12</td>\n",
       "      <td>53.267745</td>\n",
       "      <td>69.235150</td>\n",
       "    </tr>\n",
       "    <tr>\n",
       "      <td>13</td>\n",
       "      <td>51.083215</td>\n",
       "      <td>69.485515</td>\n",
       "    </tr>\n",
       "    <tr>\n",
       "      <td>14</td>\n",
       "      <td>57.045768</td>\n",
       "      <td>70.505179</td>\n",
       "    </tr>\n",
       "    <tr>\n",
       "      <td>15</td>\n",
       "      <td>45.638601</td>\n",
       "      <td>74.938384</td>\n",
       "    </tr>\n",
       "    <tr>\n",
       "      <td>16</td>\n",
       "      <td>51.623819</td>\n",
       "      <td>68.265192</td>\n",
       "    </tr>\n",
       "    <tr>\n",
       "      <td>17</td>\n",
       "      <td>56.594847</td>\n",
       "      <td>69.022483</td>\n",
       "    </tr>\n",
       "    <tr>\n",
       "      <td>18</td>\n",
       "      <td>41.669479</td>\n",
       "      <td>65.731830</td>\n",
       "    </tr>\n",
       "    <tr>\n",
       "      <td>19</td>\n",
       "      <td>48.078255</td>\n",
       "      <td>70.255869</td>\n",
       "    </tr>\n",
       "    <tr>\n",
       "      <td>20</td>\n",
       "      <td>56.102664</td>\n",
       "      <td>67.434254</td>\n",
       "    </tr>\n",
       "    <tr>\n",
       "      <td>21</td>\n",
       "      <td>48.318430</td>\n",
       "      <td>66.425686</td>\n",
       "    </tr>\n",
       "    <tr>\n",
       "      <td>22</td>\n",
       "      <td>54.206400</td>\n",
       "      <td>67.247417</td>\n",
       "    </tr>\n",
       "    <tr>\n",
       "      <td>23</td>\n",
       "      <td>43.721949</td>\n",
       "      <td>66.448706</td>\n",
       "    </tr>\n",
       "    <tr>\n",
       "      <td>24</td>\n",
       "      <td>61.340282</td>\n",
       "      <td>65.789510</td>\n",
       "    </tr>\n",
       "    <tr>\n",
       "      <td>25</td>\n",
       "      <td>48.220685</td>\n",
       "      <td>68.367308</td>\n",
       "    </tr>\n",
       "    <tr>\n",
       "      <td>26</td>\n",
       "      <td>55.393913</td>\n",
       "      <td>75.392181</td>\n",
       "    </tr>\n",
       "    <tr>\n",
       "      <td>27</td>\n",
       "      <td>41.949119</td>\n",
       "      <td>65.344482</td>\n",
       "    </tr>\n",
       "    <tr>\n",
       "      <td>28</td>\n",
       "      <td>47.112876</td>\n",
       "      <td>68.617034</td>\n",
       "    </tr>\n",
       "    <tr>\n",
       "      <td>29</td>\n",
       "      <td>50.004466</td>\n",
       "      <td>70.400691</td>\n",
       "    </tr>\n",
       "    <tr>\n",
       "      <td>30</td>\n",
       "      <td>55.788744</td>\n",
       "      <td>67.332922</td>\n",
       "    </tr>\n",
       "    <tr>\n",
       "      <td>31</td>\n",
       "      <td>56.619835</td>\n",
       "      <td>68.976608</td>\n",
       "    </tr>\n",
       "    <tr>\n",
       "      <td>32</td>\n",
       "      <td>60.621422</td>\n",
       "      <td>59.422114</td>\n",
       "    </tr>\n",
       "    <tr>\n",
       "      <td>33</td>\n",
       "      <td>43.657356</td>\n",
       "      <td>65.027541</td>\n",
       "    </tr>\n",
       "    <tr>\n",
       "      <td>34</td>\n",
       "      <td>55.569357</td>\n",
       "      <td>71.006370</td>\n",
       "    </tr>\n",
       "    <tr>\n",
       "      <td>35</td>\n",
       "      <td>46.134519</td>\n",
       "      <td>77.623620</td>\n",
       "    </tr>\n",
       "    <tr>\n",
       "      <td>36</td>\n",
       "      <td>50.062508</td>\n",
       "      <td>68.246139</td>\n",
       "    </tr>\n",
       "    <tr>\n",
       "      <td>37</td>\n",
       "      <td>46.941433</td>\n",
       "      <td>68.762101</td>\n",
       "    </tr>\n",
       "    <tr>\n",
       "      <td>38</td>\n",
       "      <td>45.729850</td>\n",
       "      <td>72.486510</td>\n",
       "    </tr>\n",
       "    <tr>\n",
       "      <td>39</td>\n",
       "      <td>53.135362</td>\n",
       "      <td>67.668166</td>\n",
       "    </tr>\n",
       "    <tr>\n",
       "      <td>40</td>\n",
       "      <td>48.280183</td>\n",
       "      <td>70.321508</td>\n",
       "    </tr>\n",
       "    <tr>\n",
       "      <td>41</td>\n",
       "      <td>48.573012</td>\n",
       "      <td>66.604034</td>\n",
       "    </tr>\n",
       "    <tr>\n",
       "      <td>42</td>\n",
       "      <td>47.058828</td>\n",
       "      <td>66.689981</td>\n",
       "    </tr>\n",
       "    <tr>\n",
       "      <td>43</td>\n",
       "      <td>48.210815</td>\n",
       "      <td>70.375261</td>\n",
       "    </tr>\n",
       "    <tr>\n",
       "      <td>44</td>\n",
       "      <td>48.694394</td>\n",
       "      <td>70.904209</td>\n",
       "    </tr>\n",
       "    <tr>\n",
       "      <td>45</td>\n",
       "      <td>50.440800</td>\n",
       "      <td>70.036531</td>\n",
       "    </tr>\n",
       "    <tr>\n",
       "      <td>46</td>\n",
       "      <td>52.955162</td>\n",
       "      <td>71.560083</td>\n",
       "    </tr>\n",
       "    <tr>\n",
       "      <td>47</td>\n",
       "      <td>51.071183</td>\n",
       "      <td>64.531427</td>\n",
       "    </tr>\n",
       "    <tr>\n",
       "      <td>48</td>\n",
       "      <td>49.079623</td>\n",
       "      <td>69.302728</td>\n",
       "    </tr>\n",
       "    <tr>\n",
       "      <td>49</td>\n",
       "      <td>59.482366</td>\n",
       "      <td>65.923709</td>\n",
       "    </tr>\n",
       "  </tbody>\n",
       "</table>\n",
       "</div>"
      ],
      "text/plain": [
       "           y1         y2\n",
       "0   49.728695  67.787917\n",
       "1   38.924266  71.098119\n",
       "2   60.283316  71.207146\n",
       "3   49.641161  69.920435\n",
       "4   41.030960  71.823840\n",
       "5   51.161518  65.736269\n",
       "6   44.227944  69.543932\n",
       "7   44.622137  70.930356\n",
       "8   45.314580  69.213909\n",
       "9   50.572917  71.659389\n",
       "10  47.563057  69.704317\n",
       "11  44.998258  73.408333\n",
       "12  53.267745  69.235150\n",
       "13  51.083215  69.485515\n",
       "14  57.045768  70.505179\n",
       "15  45.638601  74.938384\n",
       "16  51.623819  68.265192\n",
       "17  56.594847  69.022483\n",
       "18  41.669479  65.731830\n",
       "19  48.078255  70.255869\n",
       "20  56.102664  67.434254\n",
       "21  48.318430  66.425686\n",
       "22  54.206400  67.247417\n",
       "23  43.721949  66.448706\n",
       "24  61.340282  65.789510\n",
       "25  48.220685  68.367308\n",
       "26  55.393913  75.392181\n",
       "27  41.949119  65.344482\n",
       "28  47.112876  68.617034\n",
       "29  50.004466  70.400691\n",
       "30  55.788744  67.332922\n",
       "31  56.619835  68.976608\n",
       "32  60.621422  59.422114\n",
       "33  43.657356  65.027541\n",
       "34  55.569357  71.006370\n",
       "35  46.134519  77.623620\n",
       "36  50.062508  68.246139\n",
       "37  46.941433  68.762101\n",
       "38  45.729850  72.486510\n",
       "39  53.135362  67.668166\n",
       "40  48.280183  70.321508\n",
       "41  48.573012  66.604034\n",
       "42  47.058828  66.689981\n",
       "43  48.210815  70.375261\n",
       "44  48.694394  70.904209\n",
       "45  50.440800  70.036531\n",
       "46  52.955162  71.560083\n",
       "47  51.071183  64.531427\n",
       "48  49.079623  69.302728\n",
       "49  59.482366  65.923709"
      ]
     },
     "execution_count": 57,
     "metadata": {},
     "output_type": "execute_result"
    }
   ],
   "source": [
    "# view the spreadsheet\n",
    "df"
   ]
  },
  {
   "cell_type": "code",
   "execution_count": 59,
   "metadata": {},
   "outputs": [
    {
     "data": {
      "image/png": "[encoded data removed]",
      "text/plain": [
       "<Figure size 288x216 with 1 Axes>"
      ]
     },
     "metadata": {
      "needs_background": "light"
     },
     "output_type": "display_data"
    }
   ],
   "source": [
    "# plotting is quicker\n",
    "fig,ax = plt.subplots(figsize=(4,3))\n",
    "sns.barplot(data=df);\n",
    "\n",
    "# and now we add visualization of individual points\n",
    "sns.swarmplot(data=df,color=\"0\", alpha=.35);"
   ]
  },
  {
   "cell_type": "code",
   "execution_count": null,
   "metadata": {},
   "outputs": [],
   "source": [
    "# try doing this in matlibplot"
   ]
  },
  {
   "cell_type": "code",
   "execution_count": 60,
   "metadata": {},
   "outputs": [
    {
     "data": {
      "image/png": "[encoded data removed]",
      "text/plain": [
       "<Figure size 432x288 with 1 Axes>"
      ]
     },
     "metadata": {
      "needs_background": "light"
     },
     "output_type": "display_data"
    }
   ],
   "source": [
    "# histogram\n",
    "fig,ax = plt.subplots()\n",
    "ax.hist(y1);\n",
    "ax.hist(y2);\n",
    "ax.legend(['y1','y2']);"
   ]
  },
  {
   "cell_type": "code",
   "execution_count": null,
   "metadata": {},
   "outputs": [],
   "source": []
  }
 ],
 "metadata": {
  "kernelspec": {
   "display_name": "Python 3",
   "language": "python",
   "name": "python3"
  },
  "language_info": {
   "codemirror_mode": {
    "name": "ipython",
    "version": 3
   },
   "file_extension": ".py",
   "mimetype": "text/x-python",
   "name": "python",
   "nbconvert_exporter": "python",
   "pygments_lexer": "ipython3",
   "version": "3.7.4"
  }
 },
 "nbformat": 4,
 "nbformat_minor": 4
}
