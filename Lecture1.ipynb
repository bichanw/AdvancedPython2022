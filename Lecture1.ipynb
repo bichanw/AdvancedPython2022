{
 "cells": [
  {
   "cell_type": "markdown",
   "metadata": {
    "id": "bcLZ1E_TBOFf"
   },
   "source": [
    "# Lecture 1: Visualization"
   ]
  },
  {
   "cell_type": "markdown",
   "metadata": {
    "id": "vG4dnAteBOFj"
   },
   "source": [
    "In this notebook we will learn about how to visualize data with different methods."
   ]
  },
  {
   "cell_type": "code",
   "execution_count": 4,
   "metadata": {
    "executionInfo": {
     "elapsed": 5,
     "status": "ok",
     "timestamp": 1656281794540,
     "user": {
      "displayName": "Bichan Wu",
      "userId": "07606282196905218147"
     },
     "user_tz": 240
    },
    "id": "yRoBHK4_BOFk"
   },
   "outputs": [],
   "source": [
    "# import some of our best friends\n",
    "import numpy as np\n",
    "import matplotlib.pyplot as plt\n",
    "import seaborn as sns # fancy plots\n",
    "import pandas as pd # fancy plots need to come from pd data structure"
   ]
  },
  {
   "cell_type": "markdown",
   "metadata": {
    "id": "8RuUcxp3BOFv"
   },
   "source": [
    "## Group Data"
   ]
  },
  {
   "cell_type": "markdown",
   "metadata": {
    "id": "6GjUK9GLBOFv"
   },
   "source": [
    "Compare 2 groups of independent data. This is useful in behavioral analysis (compare behavioral measurement, model performance...)"
   ]
  },
  {
   "cell_type": "markdown",
   "metadata": {
    "id": "cYI99xwOBOFw"
   },
   "source": [
    "Let's create some artificial dataset first. Simulate 2 random [Gaussian distributions](https://www.geogebra.org/m/fqZMa34Q)."
   ]
  },
  {
   "cell_type": "code",
   "execution_count": 5,
   "metadata": {
    "id": "z3GC2ZyUBOFw"
   },
   "outputs": [],
   "source": [
    "# simulate 2 groups with different mean and standard deviation\n",
    "nsamples = 50\n",
    "\n",
    "y1 = np.random.randn(nsamples) * 10 + 50\n",
    "y2 = np.random.randn(nsamples) * 7.5 + 40"
   ]
  },
  {
   "cell_type": "code",
   "execution_count": 8,
   "metadata": {
    "id": "uEVlcttlBOFw"
   },
   "outputs": [],
   "source": [
    "# calculate basic properties to plot\n",
    "M = [np.mean(y) for y in [y1,y2]] # mean\n",
    "V = [np.std(y) for y in [y1,y2]]  # variance"
   ]
  },
  {
   "cell_type": "markdown",
   "metadata": {
    "id": "a6UBbcFWBOFw"
   },
   "source": [
    "Bar plots!"
   ]
  },
  {
   "cell_type": "code",
   "execution_count": 11,
   "metadata": {
    "colab": {
     "base_uri": "https://localhost:8080/",
     "height": 211
    },
    "executionInfo": {
     "elapsed": 491,
     "status": "ok",
     "timestamp": 1656280678443,
     "user": {
      "displayName": "Bichan Wu",
      "userId": "07606282196905218147"
     },
     "user_tz": 240
    },
    "id": "2MQz5YBlBOFx",
    "outputId": "d58888b1-17d6-4a77-9005-6e55a1890718"
   },
   "outputs": [
    {
     "data": {
      "image/png": "[encoded data removed]",
      "text/plain": [
       "<Figure size 432x216 with 2 Axes>"
      ]
     },
     "metadata": {
      "needs_background": "light"
     },
     "output_type": "display_data"
    }
   ],
   "source": [
    "# create 2 plots side by side\n",
    "fig,ax = plt.subplots(1,2, figsize=(6,3))\n",
    "\n",
    "# basic bar plot\n",
    "ax[0].bar([1,2],M);\n",
    "ax[0].set(xticks=[1,2],xticklabels=['y1','y2']);\n",
    "\n",
    "# add error bars\n",
    "ax[1].bar([1,2],M,yerr = V);\n",
    "ax[1].set(xticks=[1,2],xticklabels=['y1','y2']);"
   ]
  },
  {
   "cell_type": "markdown",
   "metadata": {
    "id": "eOuPXdhmBOFx"
   },
   "source": [
    "Fancy bar plots!"
   ]
  },
  {
   "cell_type": "code",
   "execution_count": 15,
   "metadata": {
    "id": "8nLagboQBOFy"
   },
   "outputs": [],
   "source": [
    "# create a panda DataFrame - like a spreadsheet\n",
    "df = pd.DataFrame(np.vstack([y1,y2]).T,columns = ['y1','y2'])"
   ]
  },
  {
   "cell_type": "code",
   "execution_count": 16,
   "metadata": {
    "colab": {
     "base_uri": "https://localhost:8080/",
     "height": 1000
    },
    "executionInfo": {
     "elapsed": 8,
     "status": "ok",
     "timestamp": 1656280681063,
     "user": {
      "displayName": "Bichan Wu",
      "userId": "07606282196905218147"
     },
     "user_tz": 240
    },
    "id": "UJh9hlzdBOFy",
    "outputId": "d07096f1-2d94-4f88-8c8b-3e81ac1205d1"
   },
   "outputs": [
    {
     "data": {
      "text/html": [
       "<div>\n",
       "<style scoped>\n",
       "    .dataframe tbody tr th:only-of-type {\n",
       "        vertical-align: middle;\n",
       "    }\n",
       "\n",
       "    .dataframe tbody tr th {\n",
       "        vertical-align: top;\n",
       "    }\n",
       "\n",
       "    .dataframe thead th {\n",
       "        text-align: right;\n",
       "    }\n",
       "</style>\n",
       "<table border=\"1\" class=\"dataframe\">\n",
       "  <thead>\n",
       "    <tr style=\"text-align: right;\">\n",
       "      <th></th>\n",
       "      <th>y1</th>\n",
       "      <th>y2</th>\n",
       "    </tr>\n",
       "  </thead>\n",
       "  <tbody>\n",
       "    <tr>\n",
       "      <td>0</td>\n",
       "      <td>38.984611</td>\n",
       "      <td>33.787346</td>\n",
       "    </tr>\n",
       "    <tr>\n",
       "      <td>1</td>\n",
       "      <td>58.356609</td>\n",
       "      <td>47.478324</td>\n",
       "    </tr>\n",
       "    <tr>\n",
       "      <td>2</td>\n",
       "      <td>37.440946</td>\n",
       "      <td>33.277542</td>\n",
       "    </tr>\n",
       "    <tr>\n",
       "      <td>3</td>\n",
       "      <td>36.479647</td>\n",
       "      <td>25.299542</td>\n",
       "    </tr>\n",
       "    <tr>\n",
       "      <td>4</td>\n",
       "      <td>36.066758</td>\n",
       "      <td>38.844400</td>\n",
       "    </tr>\n",
       "    <tr>\n",
       "      <td>5</td>\n",
       "      <td>37.691125</td>\n",
       "      <td>42.706480</td>\n",
       "    </tr>\n",
       "    <tr>\n",
       "      <td>6</td>\n",
       "      <td>64.284315</td>\n",
       "      <td>39.925361</td>\n",
       "    </tr>\n",
       "    <tr>\n",
       "      <td>7</td>\n",
       "      <td>53.755293</td>\n",
       "      <td>37.709896</td>\n",
       "    </tr>\n",
       "    <tr>\n",
       "      <td>8</td>\n",
       "      <td>64.363364</td>\n",
       "      <td>28.688868</td>\n",
       "    </tr>\n",
       "    <tr>\n",
       "      <td>9</td>\n",
       "      <td>44.116287</td>\n",
       "      <td>26.975205</td>\n",
       "    </tr>\n",
       "    <tr>\n",
       "      <td>10</td>\n",
       "      <td>48.577939</td>\n",
       "      <td>47.443615</td>\n",
       "    </tr>\n",
       "    <tr>\n",
       "      <td>11</td>\n",
       "      <td>53.904704</td>\n",
       "      <td>35.278344</td>\n",
       "    </tr>\n",
       "    <tr>\n",
       "      <td>12</td>\n",
       "      <td>71.581820</td>\n",
       "      <td>27.652721</td>\n",
       "    </tr>\n",
       "    <tr>\n",
       "      <td>13</td>\n",
       "      <td>62.110229</td>\n",
       "      <td>41.404595</td>\n",
       "    </tr>\n",
       "    <tr>\n",
       "      <td>14</td>\n",
       "      <td>60.279527</td>\n",
       "      <td>35.609423</td>\n",
       "    </tr>\n",
       "    <tr>\n",
       "      <td>15</td>\n",
       "      <td>48.229484</td>\n",
       "      <td>32.849079</td>\n",
       "    </tr>\n",
       "    <tr>\n",
       "      <td>16</td>\n",
       "      <td>45.951465</td>\n",
       "      <td>37.607202</td>\n",
       "    </tr>\n",
       "    <tr>\n",
       "      <td>17</td>\n",
       "      <td>69.650534</td>\n",
       "      <td>34.216964</td>\n",
       "    </tr>\n",
       "    <tr>\n",
       "      <td>18</td>\n",
       "      <td>50.070107</td>\n",
       "      <td>50.632682</td>\n",
       "    </tr>\n",
       "    <tr>\n",
       "      <td>19</td>\n",
       "      <td>58.218883</td>\n",
       "      <td>41.274614</td>\n",
       "    </tr>\n",
       "    <tr>\n",
       "      <td>20</td>\n",
       "      <td>57.751955</td>\n",
       "      <td>48.711297</td>\n",
       "    </tr>\n",
       "    <tr>\n",
       "      <td>21</td>\n",
       "      <td>29.865985</td>\n",
       "      <td>36.714619</td>\n",
       "    </tr>\n",
       "    <tr>\n",
       "      <td>22</td>\n",
       "      <td>55.008534</td>\n",
       "      <td>43.121029</td>\n",
       "    </tr>\n",
       "    <tr>\n",
       "      <td>23</td>\n",
       "      <td>56.622845</td>\n",
       "      <td>45.671690</td>\n",
       "    </tr>\n",
       "    <tr>\n",
       "      <td>24</td>\n",
       "      <td>50.370560</td>\n",
       "      <td>40.404017</td>\n",
       "    </tr>\n",
       "    <tr>\n",
       "      <td>25</td>\n",
       "      <td>51.848154</td>\n",
       "      <td>40.914672</td>\n",
       "    </tr>\n",
       "    <tr>\n",
       "      <td>26</td>\n",
       "      <td>66.105622</td>\n",
       "      <td>36.886225</td>\n",
       "    </tr>\n",
       "    <tr>\n",
       "      <td>27</td>\n",
       "      <td>60.912690</td>\n",
       "      <td>40.686810</td>\n",
       "    </tr>\n",
       "    <tr>\n",
       "      <td>28</td>\n",
       "      <td>50.587603</td>\n",
       "      <td>40.705769</td>\n",
       "    </tr>\n",
       "    <tr>\n",
       "      <td>29</td>\n",
       "      <td>46.476824</td>\n",
       "      <td>50.529474</td>\n",
       "    </tr>\n",
       "    <tr>\n",
       "      <td>30</td>\n",
       "      <td>57.845116</td>\n",
       "      <td>32.286054</td>\n",
       "    </tr>\n",
       "    <tr>\n",
       "      <td>31</td>\n",
       "      <td>56.599074</td>\n",
       "      <td>42.351139</td>\n",
       "    </tr>\n",
       "    <tr>\n",
       "      <td>32</td>\n",
       "      <td>48.858454</td>\n",
       "      <td>27.657692</td>\n",
       "    </tr>\n",
       "    <tr>\n",
       "      <td>33</td>\n",
       "      <td>45.892697</td>\n",
       "      <td>36.842239</td>\n",
       "    </tr>\n",
       "    <tr>\n",
       "      <td>34</td>\n",
       "      <td>32.991185</td>\n",
       "      <td>42.217082</td>\n",
       "    </tr>\n",
       "    <tr>\n",
       "      <td>35</td>\n",
       "      <td>73.015511</td>\n",
       "      <td>19.365689</td>\n",
       "    </tr>\n",
       "    <tr>\n",
       "      <td>36</td>\n",
       "      <td>41.608588</td>\n",
       "      <td>44.970255</td>\n",
       "    </tr>\n",
       "    <tr>\n",
       "      <td>37</td>\n",
       "      <td>70.740250</td>\n",
       "      <td>38.268270</td>\n",
       "    </tr>\n",
       "    <tr>\n",
       "      <td>38</td>\n",
       "      <td>29.786923</td>\n",
       "      <td>46.481518</td>\n",
       "    </tr>\n",
       "    <tr>\n",
       "      <td>39</td>\n",
       "      <td>66.101354</td>\n",
       "      <td>39.337775</td>\n",
       "    </tr>\n",
       "    <tr>\n",
       "      <td>40</td>\n",
       "      <td>31.702241</td>\n",
       "      <td>30.166266</td>\n",
       "    </tr>\n",
       "    <tr>\n",
       "      <td>41</td>\n",
       "      <td>29.684424</td>\n",
       "      <td>30.785303</td>\n",
       "    </tr>\n",
       "    <tr>\n",
       "      <td>42</td>\n",
       "      <td>31.165697</td>\n",
       "      <td>49.107904</td>\n",
       "    </tr>\n",
       "    <tr>\n",
       "      <td>43</td>\n",
       "      <td>33.782675</td>\n",
       "      <td>33.873517</td>\n",
       "    </tr>\n",
       "    <tr>\n",
       "      <td>44</td>\n",
       "      <td>40.334862</td>\n",
       "      <td>36.023243</td>\n",
       "    </tr>\n",
       "    <tr>\n",
       "      <td>45</td>\n",
       "      <td>45.024249</td>\n",
       "      <td>47.561595</td>\n",
       "    </tr>\n",
       "    <tr>\n",
       "      <td>46</td>\n",
       "      <td>36.914385</td>\n",
       "      <td>53.823778</td>\n",
       "    </tr>\n",
       "    <tr>\n",
       "      <td>47</td>\n",
       "      <td>41.968116</td>\n",
       "      <td>41.692916</td>\n",
       "    </tr>\n",
       "    <tr>\n",
       "      <td>48</td>\n",
       "      <td>50.338039</td>\n",
       "      <td>41.038149</td>\n",
       "    </tr>\n",
       "    <tr>\n",
       "      <td>49</td>\n",
       "      <td>54.120665</td>\n",
       "      <td>31.463196</td>\n",
       "    </tr>\n",
       "  </tbody>\n",
       "</table>\n",
       "</div>"
      ],
      "text/plain": [
       "           y1         y2\n",
       "0   38.984611  33.787346\n",
       "1   58.356609  47.478324\n",
       "2   37.440946  33.277542\n",
       "3   36.479647  25.299542\n",
       "4   36.066758  38.844400\n",
       "5   37.691125  42.706480\n",
       "6   64.284315  39.925361\n",
       "7   53.755293  37.709896\n",
       "8   64.363364  28.688868\n",
       "9   44.116287  26.975205\n",
       "10  48.577939  47.443615\n",
       "11  53.904704  35.278344\n",
       "12  71.581820  27.652721\n",
       "13  62.110229  41.404595\n",
       "14  60.279527  35.609423\n",
       "15  48.229484  32.849079\n",
       "16  45.951465  37.607202\n",
       "17  69.650534  34.216964\n",
       "18  50.070107  50.632682\n",
       "19  58.218883  41.274614\n",
       "20  57.751955  48.711297\n",
       "21  29.865985  36.714619\n",
       "22  55.008534  43.121029\n",
       "23  56.622845  45.671690\n",
       "24  50.370560  40.404017\n",
       "25  51.848154  40.914672\n",
       "26  66.105622  36.886225\n",
       "27  60.912690  40.686810\n",
       "28  50.587603  40.705769\n",
       "29  46.476824  50.529474\n",
       "30  57.845116  32.286054\n",
       "31  56.599074  42.351139\n",
       "32  48.858454  27.657692\n",
       "33  45.892697  36.842239\n",
       "34  32.991185  42.217082\n",
       "35  73.015511  19.365689\n",
       "36  41.608588  44.970255\n",
       "37  70.740250  38.268270\n",
       "38  29.786923  46.481518\n",
       "39  66.101354  39.337775\n",
       "40  31.702241  30.166266\n",
       "41  29.684424  30.785303\n",
       "42  31.165697  49.107904\n",
       "43  33.782675  33.873517\n",
       "44  40.334862  36.023243\n",
       "45  45.024249  47.561595\n",
       "46  36.914385  53.823778\n",
       "47  41.968116  41.692916\n",
       "48  50.338039  41.038149\n",
       "49  54.120665  31.463196"
      ]
     },
     "execution_count": 16,
     "metadata": {},
     "output_type": "execute_result"
    }
   ],
   "source": [
    "# view the spreadsheet\n",
    "df"
   ]
  },
  {
   "cell_type": "code",
   "execution_count": 21,
   "metadata": {
    "colab": {
     "base_uri": "https://localhost:8080/",
     "height": 211
    },
    "executionInfo": {
     "elapsed": 370,
     "status": "ok",
     "timestamp": 1656280688942,
     "user": {
      "displayName": "Bichan Wu",
      "userId": "07606282196905218147"
     },
     "user_tz": 240
    },
    "id": "PR05XYvHBOFz",
    "outputId": "a9f14cc3-a149-4ca5-c7da-2c38e6de493e"
   },
   "outputs": [
    {
     "data": {
      "image/png": "[encoded data removed]",
      "text/plain": [
       "<Figure size 288x216 with 1 Axes>"
      ]
     },
     "metadata": {
      "needs_background": "light"
     },
     "output_type": "display_data"
    }
   ],
   "source": [
    "# plotting is quicker\n",
    "fig,ax = plt.subplots(figsize=(4,3))\n",
    "sns.barplot(data=df); \n",
    "# we can see there's a shorter error bar here, for that sns plots standard error instead of standard deviation (std / (n_sample-1))\n",
    "\n",
    "# and now we add visualization of individual points\n",
    "sns.swarmplot(data=df);"
   ]
  },
  {
   "cell_type": "code",
   "execution_count": null,
   "metadata": {
    "id": "bishD3yiBOF0"
   },
   "outputs": [],
   "source": [
    "# Homework: try doing this in matlibplot ax.scatter"
   ]
  },
  {
   "cell_type": "code",
   "execution_count": 22,
   "metadata": {
    "colab": {
     "base_uri": "https://localhost:8080/",
     "height": 265
    },
    "executionInfo": {
     "elapsed": 369,
     "status": "ok",
     "timestamp": 1656280690830,
     "user": {
      "displayName": "Bichan Wu",
      "userId": "07606282196905218147"
     },
     "user_tz": 240
    },
    "id": "tKzM5p6HBOF1",
    "outputId": "1b278a2d-ac0c-4152-d0a4-e50c5918e822"
   },
   "outputs": [
    {
     "data": {
      "image/png": "[encoded data removed]",
      "text/plain": [
       "<Figure size 432x288 with 1 Axes>"
      ]
     },
     "metadata": {
      "needs_background": "light"
     },
     "output_type": "display_data"
    }
   ],
   "source": [
    "# violin plot\n",
    "sns.violinplot(data=df);"
   ]
  },
  {
   "cell_type": "code",
   "execution_count": 37,
   "metadata": {},
   "outputs": [
    {
     "ename": "AttributeError",
     "evalue": "'Figure' object has no attribute 'shape'",
     "output_type": "error",
     "traceback": [
      "\u001b[0;31m---------------------------------------------------------------------------\u001b[0m",
      "\u001b[0;31mAttributeError\u001b[0m                            Traceback (most recent call last)",
      "\u001b[0;32m<ipython-input-37-cb31c7458bcf>\u001b[0m in \u001b[0;36m<module>\u001b[0;34m\u001b[0m\n\u001b[1;32m      1\u001b[0m \u001b[0mfig\u001b[0m\u001b[0;34m,\u001b[0m\u001b[0max\u001b[0m \u001b[0;34m=\u001b[0m \u001b[0mplt\u001b[0m\u001b[0;34m.\u001b[0m\u001b[0msubplots\u001b[0m\u001b[0;34m(\u001b[0m\u001b[0;36m5\u001b[0m\u001b[0;34m,\u001b[0m\u001b[0;36m5\u001b[0m\u001b[0;34m)\u001b[0m\u001b[0;34m\u001b[0m\u001b[0;34m\u001b[0m\u001b[0m\n\u001b[0;32m----> 2\u001b[0;31m \u001b[0mfig\u001b[0m\u001b[0;34m.\u001b[0m\u001b[0mshape\u001b[0m\u001b[0;34m\u001b[0m\u001b[0;34m\u001b[0m\u001b[0m\n\u001b[0m\u001b[1;32m      3\u001b[0m \u001b[0max\u001b[0m\u001b[0;34m.\u001b[0m\u001b[0mshape\u001b[0m\u001b[0;34m\u001b[0m\u001b[0;34m\u001b[0m\u001b[0m\n",
      "\u001b[0;31mAttributeError\u001b[0m: 'Figure' object has no attribute 'shape'"
     ]
    },
    {
     "data": {
      "image/png": "[encoded data removed]",
      "text/plain": [
       "<Figure size 432x288 with 25 Axes>"
      ]
     },
     "metadata": {
      "needs_background": "light"
     },
     "output_type": "display_data"
    }
   ],
   "source": [
    "fig,ax = plt.subplots(5,5)\n",
    "ax.shape"
   ]
  },
  {
   "cell_type": "code",
   "execution_count": 35,
   "metadata": {
    "colab": {
     "base_uri": "https://localhost:8080/",
     "height": 313
    },
    "executionInfo": {
     "elapsed": 551,
     "status": "ok",
     "timestamp": 1656280692995,
     "user": {
      "displayName": "Bichan Wu",
      "userId": "07606282196905218147"
     },
     "user_tz": 240
    },
    "id": "MzWUspQHBOF3",
    "outputId": "a5933227-eb18-4690-f2af-a7418438bc43"
   },
   "outputs": [
    {
     "data": {
      "image/png": "[encoded data removed]",
      "text/plain": [
       "<Figure size 504x216 with 3 Axes>"
      ]
     },
     "metadata": {
      "needs_background": "light"
     },
     "output_type": "display_data"
    }
   ],
   "source": [
    "# histogram\n",
    "fig,ax = plt.subplots(1,3,figsize=(7,3))\n",
    "\n",
    "# seaborn histogram\n",
    "h1 = sns.distplot(a=y1,ax=ax[0]);\n",
    "h2 = sns.distplot(a=y2,ax=ax[2]);\n",
    "ax[0].set(xlabel='y')\n",
    "ax[0].legend(['y1','y2']);\n",
    "\n",
    "# matplotlib histogram\n",
    "ax[1].hist(y1);\n",
    "ax[1].hist(y2);\n",
    "ax[1].legend(['y1','y2']);"
   ]
  },
  {
   "cell_type": "markdown",
   "metadata": {
    "id": "wc9iSKwaBOF3"
   },
   "source": [
    "Last but not the least, statistical test:"
   ]
  },
  {
   "cell_type": "code",
   "execution_count": 38,
   "metadata": {
    "colab": {
     "base_uri": "https://localhost:8080/"
    },
    "executionInfo": {
     "elapsed": 155,
     "status": "ok",
     "timestamp": 1656280695144,
     "user": {
      "displayName": "Bichan Wu",
      "userId": "07606282196905218147"
     },
     "user_tz": 240
    },
    "id": "FTbN8JUcBOF4",
    "outputId": "975264eb-ed82-46dc-c475-7d25aee54baf"
   },
   "outputs": [
    {
     "data": {
      "text/plain": [
       "Ttest_indResult(statistic=5.513517886868815, pvalue=2.8550272957991323e-07)"
      ]
     },
     "execution_count": 38,
     "metadata": {},
     "output_type": "execute_result"
    }
   ],
   "source": [
    "from scipy.stats import ttest_ind\n",
    "ttest_ind(y1,y2)"
   ]
  },
  {
   "cell_type": "markdown",
   "metadata": {
    "id": "L_zWpHiFBOF4"
   },
   "source": [
    "## Paired group test"
   ]
  },
  {
   "cell_type": "code",
   "execution_count": 39,
   "metadata": {
    "id": "RE1i9kxcBOF5"
   },
   "outputs": [],
   "source": [
    "# simulate 2 groups with different mean and standard deviation\n",
    "nsamples = 50\n",
    "\n",
    "y1 = np.random.randn(nsamples) * 5 + 50\n",
    "y2 = 0.8*y1 + 20 + np.random.rand(nsamples)*1 # each y2 sample is generated based on corresponding y2 sample"
   ]
  },
  {
   "cell_type": "code",
   "execution_count": 41,
   "metadata": {},
   "outputs": [
    {
     "data": {
      "text/plain": [
       "(2, 50)"
      ]
     },
     "execution_count": 41,
     "metadata": {},
     "output_type": "execute_result"
    }
   ],
   "source": [
    "np.vstack([y1,y2]).shape"
   ]
  },
  {
   "cell_type": "code",
   "execution_count": 42,
   "metadata": {
    "colab": {
     "base_uri": "https://localhost:8080/",
     "height": 211
    },
    "executionInfo": {
     "elapsed": 314,
     "status": "ok",
     "timestamp": 1656280700392,
     "user": {
      "displayName": "Bichan Wu",
      "userId": "07606282196905218147"
     },
     "user_tz": 240
    },
    "id": "Tyg0HokdBOF5",
    "outputId": "95a621e4-dae3-440a-980d-9e0f97651c40"
   },
   "outputs": [
    {
     "data": {
      "image/png": "[encoded data removed]",
      "text/plain": [
       "<Figure size 216x216 with 1 Axes>"
      ]
     },
     "metadata": {
      "needs_background": "light"
     },
     "output_type": "display_data"
    }
   ],
   "source": [
    "fig,ax = plt.subplots(figsize=(3,3))\n",
    "\n",
    "# don't forget to recalculate value for plot\n",
    "M = [np.mean(y1),np.mean(y2)]\n",
    "V = [np.std(y1),np.std(y2)]\n",
    "\n",
    "# bars with error bars\n",
    "ax.bar([1,2],M,yerr=V);\n",
    "ax.set(xticks=[1,2],xticklabels=['y1','y2']);\n",
    "\n",
    "# now data is paired, let's connect them\n",
    "ax.plot([1,2],np.vstack([y1,y2]),'.-',color=[0,0,0,0.1]);"
   ]
  },
  {
   "cell_type": "code",
   "execution_count": 43,
   "metadata": {
    "colab": {
     "base_uri": "https://localhost:8080/",
     "height": 374
    },
    "executionInfo": {
     "elapsed": 4022,
     "status": "ok",
     "timestamp": 1656280704586,
     "user": {
      "displayName": "Bichan Wu",
      "userId": "07606282196905218147"
     },
     "user_tz": 240
    },
    "id": "QBlYwkTUBOF5",
    "outputId": "df4851bc-cc09-4414-a72f-d8f32fa2c85f"
   },
   "outputs": [
    {
     "data": {
      "image/png": "[encoded data removed]",
      "text/plain": [
       "<Figure size 360x360 with 6 Axes>"
      ]
     },
     "metadata": {
      "needs_background": "light"
     },
     "output_type": "display_data"
    }
   ],
   "source": [
    "# to do this in seaborn\n",
    "df = pd.DataFrame(np.vstack((y1,y2)).T,columns = ['y1','y2']) # create a new table\n",
    "sns.pairplot(df);"
   ]
  },
  {
   "cell_type": "markdown",
   "metadata": {
    "id": "1SiqqYp1BOFr"
   },
   "source": [
    "## Time series data"
   ]
  },
  {
   "cell_type": "markdown",
   "metadata": {
    "id": "fxnfFUVABOFr"
   },
   "source": [
    "General electrophysiological data (LFP, EEG), calcium signal."
   ]
  },
  {
   "cell_type": "code",
   "execution_count": null,
   "metadata": {
    "id": "HT-ynz_kBOFs"
   },
   "outputs": [],
   "source": [
    "# simplest example: sine wave with noise\n",
    "\n",
    "# create sample data\n",
    "Fs = 1000 # sampling frequency\n",
    "t = np.arange(0,0.3, 1/Fs)  # create time axis"
   ]
  },
  {
   "cell_type": "code",
   "execution_count": null,
   "metadata": {
    "id": "J4YOJiG-BOFs"
   },
   "outputs": [],
   "source": [
    "# start with 1 sine wave\n",
    "y = 0.7 * np.sin(2*np.pi*50*t)\n",
    "# or 2\n",
    "y = 0.7 * ?"
   ]
  },
  {
   "cell_type": "code",
   "execution_count": null,
   "metadata": {
    "id": "k7rmU6syBOFt",
    "outputId": "c41cda1d-d636-43bb-8805-ed5f84c890b5"
   },
   "outputs": [
    {
     "data": {
      "image/png": "[encoded data removed]",
      "text/plain": [
       "<Figure size 432x288 with 1 Axes>"
      ]
     },
     "metadata": {
      "needs_background": "light"
     },
     "output_type": "display_data"
    }
   ],
   "source": [
    "fig,ax = plt.subplots()\n",
    "ax.plot(t,y)\n",
    "ax.set(xlabel='time (s)', ylabel='signal',xlim=[0,0.1]);"
   ]
  },
  {
   "cell_type": "markdown",
   "metadata": {
    "id": "-vIKyAW8BOFt"
   },
   "source": [
    "Frequency analysis"
   ]
  },
  {
   "cell_type": "code",
   "execution_count": null,
   "metadata": {
    "id": "mSU69NdKBOFu"
   },
   "outputs": [],
   "source": [
    "# compute fast fourier transformation\n",
    "sp = np.fft.fft(y)\n",
    "freq = np.fft.fftfreq(t.shape[-1],1/Fs)"
   ]
  },
  {
   "cell_type": "code",
   "execution_count": null,
   "metadata": {
    "id": "ckuQs6wsBOFu",
    "outputId": "85e28b57-b4ee-4449-ee93-d07f4133448e"
   },
   "outputs": [
    {
     "data": {
      "image/png": "[encoded data removed]",
      "text/plain": [
       "<Figure size 432x288 with 1 Axes>"
      ]
     },
     "metadata": {
      "needs_background": "light"
     },
     "output_type": "display_data"
    }
   ],
   "source": [
    "# plot in fourier domain\n",
    "fig,ax = plt.subplots()\n",
    "ax.plot(freq,?);\n",
    "ax.set(xlim=[0,max(freq)], xlabel='Frequency (Hz)', ylabel='Power');"
   ]
  },
  {
   "cell_type": "markdown",
   "metadata": {
    "id": "Dr3JF1-xBOFv"
   },
   "source": [
    "Check out [MNE](https://mne.tools/stable/index.html#) for more details (or bring your data on Friday)."
   ]
  },
  {
   "cell_type": "markdown",
   "metadata": {
    "id": "Mcw2En2HBOFl"
   },
   "source": [
    "## Spiking data"
   ]
  },
  {
   "cell_type": "code",
   "execution_count": 4,
   "metadata": {
    "executionInfo": {
     "elapsed": 157,
     "status": "ok",
     "timestamp": 1656281840897,
     "user": {
      "displayName": "Bichan Wu",
      "userId": "07606282196905218147"
     },
     "user_tz": 240
    },
    "id": "RfSfQhEGBOFm"
   },
   "outputs": [],
   "source": [
    "# load sample datas\n",
    "spiketime = np.load('Data/spiketime.npy')\n",
    "eventtime = np.load('Data/eventtime.npy')"
   ]
  },
  {
   "cell_type": "code",
   "execution_count": 6,
   "metadata": {
    "colab": {
     "base_uri": "https://localhost:8080/"
    },
    "executionInfo": {
     "elapsed": 164,
     "status": "ok",
     "timestamp": 1656281842696,
     "user": {
      "displayName": "Bichan Wu",
      "userId": "07606282196905218147"
     },
     "user_tz": 240
    },
    "id": "fLX2X4twBOFm",
    "outputId": "991844ea-7a7d-4cfb-c748-17f9ab16c35d"
   },
   "outputs": [
    {
     "name": "stdout",
     "output_type": "stream",
     "text": [
      "Spike time contains a vector with n elements, each corresponding to the time stamp of one spike.\n",
      "Event time corresponds to time stamps of event of interest.\n",
      "22235 spikes in total\n",
      "Check time stamps of first 5 spike: [[0.05069955]\n",
      " [0.08463259]\n",
      " [0.1211656 ]\n",
      " [0.14586538]\n",
      " [0.16779852]]\n"
     ]
    }
   ],
   "source": [
    "print('Spike time contains a vector with n elements, each corresponding to the time stamp of one spike.')\n",
    "print('Event time corresponds to time stamps of event of interest.')\n",
    "print(f'{?} spikes in total')\n",
    "\n",
    "print(f'Check time stamps of first 5 spike: {?}')\n"
   ]
  },
  {
   "cell_type": "markdown",
   "metadata": {
    "id": "SwnoDYkWBOFo"
   },
   "source": [
    "Raster plot:"
   ]
  },
  {
   "cell_type": "code",
   "execution_count": null,
   "metadata": {
    "id": "gATOUfpaBOFp",
    "outputId": "1b336989-eb93-414a-cd7d-d4052be205dd"
   },
   "outputs": [
    {
     "data": {
      "text/plain": [
       "array([1.03505756, 1.09122373, 1.63958557, 1.8147507 ])"
      ]
     },
     "execution_count": 23,
     "metadata": {},
     "output_type": "execute_result"
    }
   ],
   "source": [
    "# collect spikes within certain time point (e.g. t=1 ~ t=2)\n",
    "spiketime[?]"
   ]
  },
  {
   "cell_type": "code",
   "execution_count": null,
   "metadata": {
    "id": "kzXGFWelBOFo"
   },
   "outputs": [],
   "source": [
    "# select time window of interest:\n",
    "toi = np.array([-0.1,1])\n",
    "\n",
    "# select spikes within time of interest of the first trial\n",
    "spiketime[]"
   ]
  },
  {
   "cell_type": "code",
   "execution_count": null,
   "metadata": {
    "id": "niPVtgk6BOFp"
   },
   "outputs": [],
   "source": [
    "# collect spikes within time window\n",
    "tspk = [? for t in eventtime]"
   ]
  },
  {
   "cell_type": "code",
   "execution_count": null,
   "metadata": {
    "id": "8FlxgakFBOFq",
    "outputId": "088d62b4-0384-4004-a471-ce547587d071"
   },
   "outputs": [
    {
     "data": {
      "image/png": "[encoded data removed]",
      "text/plain": [
       "<Figure size 432x288 with 1 Axes>"
      ]
     },
     "metadata": {
      "needs_background": "light"
     },
     "output_type": "display_data"
    }
   ],
   "source": [
    "plt.eventplot(tspk);"
   ]
  },
  {
   "cell_type": "code",
   "execution_count": null,
   "metadata": {
    "id": "3QGm5b4wBOFq"
   },
   "outputs": [],
   "source": [
    "# Homework: make this into a function\n",
    "# so you can run plot_raster(spiketime, eventtime)"
   ]
  }
 ],
 "metadata": {
  "colab": {
   "name": "Lecture1.ipynb",
   "provenance": []
  },
  "kernelspec": {
   "display_name": "Python 3",
   "language": "python",
   "name": "python3"
  },
  "language_info": {
   "codemirror_mode": {
    "name": "ipython",
    "version": 3
   },
   "file_extension": ".py",
   "mimetype": "text/x-python",
   "name": "python",
   "nbconvert_exporter": "python",
   "pygments_lexer": "ipython3",
   "version": "3.7.4"
  }
 },
 "nbformat": 4,
 "nbformat_minor": 4
}
