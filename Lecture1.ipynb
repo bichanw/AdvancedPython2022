{
 "cells": [
  {
   "cell_type": "markdown",
   "metadata": {},
   "source": [
    "# Lecture 1: Visualization"
   ]
  },
  {
   "cell_type": "markdown",
   "metadata": {},
   "source": [
    "In this notebook we will learn about how to visualize data with different methods."
   ]
  },
  {
   "cell_type": "code",
   "execution_count": 1,
   "metadata": {},
   "outputs": [],
   "source": [
    "# import some of our best friends\n",
    "import numpy as np\n",
    "import matplotlib.pyplot as plt\n",
    "import seaborn as sns # fancy plots\n",
    "import pandas as pd # fancy plots need to come from pd data structure"
   ]
  },
  {
   "cell_type": "markdown",
   "metadata": {},
   "source": [
    "## Spiking data"
   ]
  },
  {
   "cell_type": "code",
   "execution_count": 2,
   "metadata": {},
   "outputs": [],
   "source": [
    "# load sample data\n",
    "spiketime = np.load('Data/spiketime.npy')\n",
    "eventtime = np.load('Data/eventtime.npy')"
   ]
  },
  {
   "cell_type": "code",
   "execution_count": 7,
   "metadata": {},
   "outputs": [
    {
     "name": "stdout",
     "output_type": "stream",
     "text": [
      "Spike time contains a vector with n elements, each corresponding to the time stamp of one spike.\n",
      "Event time corresponds to time stamps of event of interest.\n",
      "22235 spikes in total\n",
      "Check example spike time:\n",
      "[[0.05069955]\n",
      " [0.08463259]\n",
      " [0.1211656 ]\n",
      " [0.14586538]\n",
      " [0.16779852]]\n"
     ]
    }
   ],
   "source": [
    "print('Spike time contains a vector with n elements, each corresponding to the time stamp of one spike.')\n",
    "print('Event time corresponds to time stamps of event of interest.')\n",
    "print(f'{spiketime.shape[0]} spikes in total')\n",
    "\n",
    "print('Check time stamps of first 5 spike:')\n",
    "print(spiketime[:5])"
   ]
  },
  {
   "cell_type": "markdown",
   "metadata": {},
   "source": [
    "Raster plot:"
   ]
  },
  {
   "cell_type": "code",
   "execution_count": 8,
   "metadata": {},
   "outputs": [],
   "source": [
    "# select time window of interest:\n",
    "toi = np.array([-0.1,1])"
   ]
  },
  {
   "cell_type": "code",
   "execution_count": 26,
   "metadata": {},
   "outputs": [
    {
     "data": {
      "text/plain": [
       "array([1.03505756, 1.09122373, 1.63958557, 1.8147507 ])"
      ]
     },
     "execution_count": 26,
     "metadata": {},
     "output_type": "execute_result"
    }
   ],
   "source": [
    "# collect spikes within certain time point (e.g. t=1 ~ t=2)\n",
    "spiketime[(spiketime<2) & (spiketime>=1)]"
   ]
  },
  {
   "cell_type": "code",
   "execution_count": 21,
   "metadata": {},
   "outputs": [],
   "source": [
    "# collect spikes within time window\n",
    "tspk = [spiketime[(spiketime<t+toi[1]) & (spiketime>=t+toi[0])]-t for t in eventtime]"
   ]
  },
  {
   "cell_type": "code",
   "execution_count": 27,
   "metadata": {},
   "outputs": [
    {
     "data": {
      "image/png": "[encoded data removed]",
      "text/plain": [
       "<Figure size 432x288 with 1 Axes>"
      ]
     },
     "metadata": {
      "needs_background": "light"
     },
     "output_type": "display_data"
    }
   ],
   "source": [
    "plt.eventplot(tspk);"
   ]
  },
  {
   "cell_type": "markdown",
   "metadata": {},
   "source": [
    "## Time series data"
   ]
  },
  {
   "cell_type": "markdown",
   "metadata": {},
   "source": [
    "General electrophysiological data (LFP, EEG), calcium signal."
   ]
  },
  {
   "cell_type": "markdown",
   "metadata": {},
   "source": [
    "Check out [MNE](https://mne.tools/stable/index.html#) for more details (or bring your data on Friday)."
   ]
  },
  {
   "cell_type": "markdown",
   "metadata": {},
   "source": [
    "## Group Data"
   ]
  },
  {
   "cell_type": "markdown",
   "metadata": {},
   "source": [
    "Compare 2 groups of independent data. This is useful in behavioral analysis (compare behavioral measurement, model performance...)"
   ]
  },
  {
   "cell_type": "markdown",
   "metadata": {},
   "source": [
    "Let's create some artificial dataset first. Simulate 2 random [Gaussian distributions](https://www.geogebra.org/m/fqZMa34Q)."
   ]
  },
  {
   "cell_type": "code",
   "execution_count": 47,
   "metadata": {},
   "outputs": [],
   "source": [
    "# simulate 2 groups with different mean and standard deviation\n",
    "nsamples = 50\n",
    "\n",
    "y1 = np.random.randn(nsamples) * 15 + 50\n",
    "y2 = np.random.randn(nsamples) * 13 + 70"
   ]
  },
  {
   "cell_type": "code",
   "execution_count": 48,
   "metadata": {},
   "outputs": [],
   "source": [
    "# calculate basic properties to plot\n",
    "M = [np.mean(y) for y in [y1,y2]] # mean\n",
    "V = [np.std(y) for y in [y1,y2]]  # variance"
   ]
  },
  {
   "cell_type": "markdown",
   "metadata": {},
   "source": [
    "Bar plots!"
   ]
  },
  {
   "cell_type": "code",
   "execution_count": 49,
   "metadata": {},
   "outputs": [
    {
     "data": {
      "image/png": "[encoded data removed]",
      "text/plain": [
       "<Figure size 432x216 with 2 Axes>"
      ]
     },
     "metadata": {
      "needs_background": "light"
     },
     "output_type": "display_data"
    }
   ],
   "source": [
    "# create 3 plots side by side\n",
    "fig,ax = plt.subplots(1,2, figsize=(6,3))\n",
    "\n",
    "# basic bar plot\n",
    "ax[0].bar([1,2],M);\n",
    "ax[0].set(xticks=[1,2],xticklabels=['y1','y2']);\n",
    "\n",
    "# add error bars\n",
    "ax[1].bar([1,2],M,yerr=V);\n",
    "ax[1].set(xticks=[1,2],xticklabels=['y1','y2']);"
   ]
  },
  {
   "cell_type": "markdown",
   "metadata": {},
   "source": [
    "Fancy bar plots!"
   ]
  },
  {
   "cell_type": "code",
   "execution_count": 50,
   "metadata": {},
   "outputs": [],
   "source": [
    "# create a panda DataFrame - like a spreadsheet\n",
    "df = pd.DataFrame(np.vstack((y1,y2)).T,columns = ['y1','y2'])"
   ]
  },
  {
   "cell_type": "code",
   "execution_count": 51,
   "metadata": {
    "collapsed": true,
    "jupyter": {
     "outputs_hidden": true
    }
   },
   "outputs": [
    {
     "data": {
      "text/html": [
       "<div>\n",
       "<style scoped>\n",
       "    .dataframe tbody tr th:only-of-type {\n",
       "        vertical-align: middle;\n",
       "    }\n",
       "\n",
       "    .dataframe tbody tr th {\n",
       "        vertical-align: top;\n",
       "    }\n",
       "\n",
       "    .dataframe thead th {\n",
       "        text-align: right;\n",
       "    }\n",
       "</style>\n",
       "<table border=\"1\" class=\"dataframe\">\n",
       "  <thead>\n",
       "    <tr style=\"text-align: right;\">\n",
       "      <th></th>\n",
       "      <th>y1</th>\n",
       "      <th>y2</th>\n",
       "    </tr>\n",
       "  </thead>\n",
       "  <tbody>\n",
       "    <tr>\n",
       "      <td>0</td>\n",
       "      <td>28.189967</td>\n",
       "      <td>70.768657</td>\n",
       "    </tr>\n",
       "    <tr>\n",
       "      <td>1</td>\n",
       "      <td>65.347018</td>\n",
       "      <td>79.213120</td>\n",
       "    </tr>\n",
       "    <tr>\n",
       "      <td>2</td>\n",
       "      <td>68.930310</td>\n",
       "      <td>69.544995</td>\n",
       "    </tr>\n",
       "    <tr>\n",
       "      <td>3</td>\n",
       "      <td>33.477218</td>\n",
       "      <td>80.711710</td>\n",
       "    </tr>\n",
       "    <tr>\n",
       "      <td>4</td>\n",
       "      <td>25.501893</td>\n",
       "      <td>90.611238</td>\n",
       "    </tr>\n",
       "    <tr>\n",
       "      <td>5</td>\n",
       "      <td>37.357487</td>\n",
       "      <td>56.983792</td>\n",
       "    </tr>\n",
       "    <tr>\n",
       "      <td>6</td>\n",
       "      <td>22.139990</td>\n",
       "      <td>71.335023</td>\n",
       "    </tr>\n",
       "    <tr>\n",
       "      <td>7</td>\n",
       "      <td>44.310758</td>\n",
       "      <td>63.538628</td>\n",
       "    </tr>\n",
       "    <tr>\n",
       "      <td>8</td>\n",
       "      <td>45.909104</td>\n",
       "      <td>50.134219</td>\n",
       "    </tr>\n",
       "    <tr>\n",
       "      <td>9</td>\n",
       "      <td>55.449074</td>\n",
       "      <td>51.736907</td>\n",
       "    </tr>\n",
       "    <tr>\n",
       "      <td>10</td>\n",
       "      <td>65.007291</td>\n",
       "      <td>89.752371</td>\n",
       "    </tr>\n",
       "    <tr>\n",
       "      <td>11</td>\n",
       "      <td>61.316094</td>\n",
       "      <td>71.034696</td>\n",
       "    </tr>\n",
       "    <tr>\n",
       "      <td>12</td>\n",
       "      <td>65.884890</td>\n",
       "      <td>51.713713</td>\n",
       "    </tr>\n",
       "    <tr>\n",
       "      <td>13</td>\n",
       "      <td>53.571081</td>\n",
       "      <td>69.784669</td>\n",
       "    </tr>\n",
       "    <tr>\n",
       "      <td>14</td>\n",
       "      <td>37.940760</td>\n",
       "      <td>63.999646</td>\n",
       "    </tr>\n",
       "    <tr>\n",
       "      <td>15</td>\n",
       "      <td>69.011022</td>\n",
       "      <td>83.048670</td>\n",
       "    </tr>\n",
       "    <tr>\n",
       "      <td>16</td>\n",
       "      <td>61.225224</td>\n",
       "      <td>91.220885</td>\n",
       "    </tr>\n",
       "    <tr>\n",
       "      <td>17</td>\n",
       "      <td>49.376084</td>\n",
       "      <td>84.548306</td>\n",
       "    </tr>\n",
       "    <tr>\n",
       "      <td>18</td>\n",
       "      <td>55.152275</td>\n",
       "      <td>55.422221</td>\n",
       "    </tr>\n",
       "    <tr>\n",
       "      <td>19</td>\n",
       "      <td>28.336901</td>\n",
       "      <td>58.531915</td>\n",
       "    </tr>\n",
       "    <tr>\n",
       "      <td>20</td>\n",
       "      <td>62.073008</td>\n",
       "      <td>74.750830</td>\n",
       "    </tr>\n",
       "    <tr>\n",
       "      <td>21</td>\n",
       "      <td>30.126995</td>\n",
       "      <td>79.626457</td>\n",
       "    </tr>\n",
       "    <tr>\n",
       "      <td>22</td>\n",
       "      <td>66.825692</td>\n",
       "      <td>71.970373</td>\n",
       "    </tr>\n",
       "    <tr>\n",
       "      <td>23</td>\n",
       "      <td>29.814356</td>\n",
       "      <td>87.660711</td>\n",
       "    </tr>\n",
       "    <tr>\n",
       "      <td>24</td>\n",
       "      <td>62.936509</td>\n",
       "      <td>71.697130</td>\n",
       "    </tr>\n",
       "    <tr>\n",
       "      <td>25</td>\n",
       "      <td>48.088662</td>\n",
       "      <td>106.826833</td>\n",
       "    </tr>\n",
       "    <tr>\n",
       "      <td>26</td>\n",
       "      <td>47.727557</td>\n",
       "      <td>99.648560</td>\n",
       "    </tr>\n",
       "    <tr>\n",
       "      <td>27</td>\n",
       "      <td>51.242799</td>\n",
       "      <td>86.188398</td>\n",
       "    </tr>\n",
       "    <tr>\n",
       "      <td>28</td>\n",
       "      <td>26.790293</td>\n",
       "      <td>82.679906</td>\n",
       "    </tr>\n",
       "    <tr>\n",
       "      <td>29</td>\n",
       "      <td>60.608407</td>\n",
       "      <td>81.609530</td>\n",
       "    </tr>\n",
       "    <tr>\n",
       "      <td>30</td>\n",
       "      <td>51.266346</td>\n",
       "      <td>73.158910</td>\n",
       "    </tr>\n",
       "    <tr>\n",
       "      <td>31</td>\n",
       "      <td>21.155714</td>\n",
       "      <td>74.996170</td>\n",
       "    </tr>\n",
       "    <tr>\n",
       "      <td>32</td>\n",
       "      <td>84.117113</td>\n",
       "      <td>79.148208</td>\n",
       "    </tr>\n",
       "    <tr>\n",
       "      <td>33</td>\n",
       "      <td>90.780425</td>\n",
       "      <td>70.065756</td>\n",
       "    </tr>\n",
       "    <tr>\n",
       "      <td>34</td>\n",
       "      <td>46.420108</td>\n",
       "      <td>55.697140</td>\n",
       "    </tr>\n",
       "    <tr>\n",
       "      <td>35</td>\n",
       "      <td>54.723801</td>\n",
       "      <td>94.023279</td>\n",
       "    </tr>\n",
       "    <tr>\n",
       "      <td>36</td>\n",
       "      <td>52.257690</td>\n",
       "      <td>74.230527</td>\n",
       "    </tr>\n",
       "    <tr>\n",
       "      <td>37</td>\n",
       "      <td>44.816930</td>\n",
       "      <td>70.093367</td>\n",
       "    </tr>\n",
       "    <tr>\n",
       "      <td>38</td>\n",
       "      <td>55.243044</td>\n",
       "      <td>63.321102</td>\n",
       "    </tr>\n",
       "    <tr>\n",
       "      <td>39</td>\n",
       "      <td>38.239778</td>\n",
       "      <td>65.453040</td>\n",
       "    </tr>\n",
       "    <tr>\n",
       "      <td>40</td>\n",
       "      <td>57.315431</td>\n",
       "      <td>82.915717</td>\n",
       "    </tr>\n",
       "    <tr>\n",
       "      <td>41</td>\n",
       "      <td>74.840373</td>\n",
       "      <td>55.046824</td>\n",
       "    </tr>\n",
       "    <tr>\n",
       "      <td>42</td>\n",
       "      <td>18.341817</td>\n",
       "      <td>63.765065</td>\n",
       "    </tr>\n",
       "    <tr>\n",
       "      <td>43</td>\n",
       "      <td>65.345265</td>\n",
       "      <td>54.379390</td>\n",
       "    </tr>\n",
       "    <tr>\n",
       "      <td>44</td>\n",
       "      <td>74.351002</td>\n",
       "      <td>62.644753</td>\n",
       "    </tr>\n",
       "    <tr>\n",
       "      <td>45</td>\n",
       "      <td>47.117501</td>\n",
       "      <td>70.823104</td>\n",
       "    </tr>\n",
       "    <tr>\n",
       "      <td>46</td>\n",
       "      <td>40.710993</td>\n",
       "      <td>43.150366</td>\n",
       "    </tr>\n",
       "    <tr>\n",
       "      <td>47</td>\n",
       "      <td>35.045794</td>\n",
       "      <td>74.685654</td>\n",
       "    </tr>\n",
       "    <tr>\n",
       "      <td>48</td>\n",
       "      <td>33.763872</td>\n",
       "      <td>60.255666</td>\n",
       "    </tr>\n",
       "    <tr>\n",
       "      <td>49</td>\n",
       "      <td>64.303485</td>\n",
       "      <td>65.324751</td>\n",
       "    </tr>\n",
       "  </tbody>\n",
       "</table>\n",
       "</div>"
      ],
      "text/plain": [
       "           y1          y2\n",
       "0   28.189967   70.768657\n",
       "1   65.347018   79.213120\n",
       "2   68.930310   69.544995\n",
       "3   33.477218   80.711710\n",
       "4   25.501893   90.611238\n",
       "5   37.357487   56.983792\n",
       "6   22.139990   71.335023\n",
       "7   44.310758   63.538628\n",
       "8   45.909104   50.134219\n",
       "9   55.449074   51.736907\n",
       "10  65.007291   89.752371\n",
       "11  61.316094   71.034696\n",
       "12  65.884890   51.713713\n",
       "13  53.571081   69.784669\n",
       "14  37.940760   63.999646\n",
       "15  69.011022   83.048670\n",
       "16  61.225224   91.220885\n",
       "17  49.376084   84.548306\n",
       "18  55.152275   55.422221\n",
       "19  28.336901   58.531915\n",
       "20  62.073008   74.750830\n",
       "21  30.126995   79.626457\n",
       "22  66.825692   71.970373\n",
       "23  29.814356   87.660711\n",
       "24  62.936509   71.697130\n",
       "25  48.088662  106.826833\n",
       "26  47.727557   99.648560\n",
       "27  51.242799   86.188398\n",
       "28  26.790293   82.679906\n",
       "29  60.608407   81.609530\n",
       "30  51.266346   73.158910\n",
       "31  21.155714   74.996170\n",
       "32  84.117113   79.148208\n",
       "33  90.780425   70.065756\n",
       "34  46.420108   55.697140\n",
       "35  54.723801   94.023279\n",
       "36  52.257690   74.230527\n",
       "37  44.816930   70.093367\n",
       "38  55.243044   63.321102\n",
       "39  38.239778   65.453040\n",
       "40  57.315431   82.915717\n",
       "41  74.840373   55.046824\n",
       "42  18.341817   63.765065\n",
       "43  65.345265   54.379390\n",
       "44  74.351002   62.644753\n",
       "45  47.117501   70.823104\n",
       "46  40.710993   43.150366\n",
       "47  35.045794   74.685654\n",
       "48  33.763872   60.255666\n",
       "49  64.303485   65.324751"
      ]
     },
     "execution_count": 51,
     "metadata": {},
     "output_type": "execute_result"
    }
   ],
   "source": [
    "# view the spreadsheet\n",
    "df"
   ]
  },
  {
   "cell_type": "code",
   "execution_count": 54,
   "metadata": {},
   "outputs": [
    {
     "data": {
      "image/png": "[encoded data removed]",
      "text/plain": [
       "<Figure size 288x216 with 1 Axes>"
      ]
     },
     "metadata": {
      "needs_background": "light"
     },
     "output_type": "display_data"
    }
   ],
   "source": [
    "# plotting is quicker\n",
    "fig,ax = plt.subplots(figsize=(4,3))\n",
    "sns.barplot(data=df); \n",
    "# we can see there's a shorter error bar here, for that sns plots standard error instead of standard deviation (std / (n_sample-1))\n",
    "\n",
    "# and now we add visualization of individual points\n",
    "sns.swarmplot(data=df,color=\"0\", alpha=.35);"
   ]
  },
  {
   "cell_type": "code",
   "execution_count": 8,
   "metadata": {},
   "outputs": [],
   "source": [
    "# try doing this in matlibplot"
   ]
  },
  {
   "cell_type": "code",
   "execution_count": 53,
   "metadata": {},
   "outputs": [
    {
     "data": {
      "image/png": "[encoded data removed]",
      "text/plain": [
       "<Figure size 432x288 with 1 Axes>"
      ]
     },
     "metadata": {
      "needs_background": "light"
     },
     "output_type": "display_data"
    }
   ],
   "source": [
    "# violin plot\n",
    "sns.violinplot(data=df);"
   ]
  },
  {
   "cell_type": "code",
   "execution_count": 21,
   "metadata": {},
   "outputs": [
    {
     "data": {
      "image/png": "[encoded data removed]",
      "text/plain": [
       "<Figure size 504x216 with 2 Axes>"
      ]
     },
     "metadata": {
      "needs_background": "light"
     },
     "output_type": "display_data"
    }
   ],
   "source": [
    "# histogram\n",
    "fig,ax = plt.subplots(1,2,figsize=(7,3))\n",
    "\n",
    "# seaborn histogram\n",
    "h1 = sns.distplot(a=df['y1'],ax=ax[0]);\n",
    "h2 = sns.distplot(a=df['y2'],ax=ax[0]);\n",
    "ax[0].set(xlabel='y')\n",
    "ax[0].legend(['y1','y2']);\n",
    "\n",
    "# matplotlib histogram\n",
    "ax[1].hist(y1);\n",
    "ax[1].hist(y2);\n",
    "ax[1].legend(['y1','y2']);"
   ]
  },
  {
   "cell_type": "markdown",
   "metadata": {},
   "source": [
    "Last but not the least, statistical test:"
   ]
  },
  {
   "cell_type": "code",
   "execution_count": 22,
   "metadata": {},
   "outputs": [
    {
     "data": {
      "text/plain": [
       "Ttest_indResult(statistic=-23.99202837344535, pvalue=8.249884257905218e-43)"
      ]
     },
     "execution_count": 22,
     "metadata": {},
     "output_type": "execute_result"
    }
   ],
   "source": [
    "from scipy.stats import ttest_ind\n",
    "ttest_ind(y1,y2)"
   ]
  },
  {
   "cell_type": "markdown",
   "metadata": {},
   "source": [
    "## Paired group test"
   ]
  },
  {
   "cell_type": "code",
   "execution_count": 23,
   "metadata": {},
   "outputs": [],
   "source": [
    "# simulate 2 groups with different mean and standard deviation\n",
    "nsamples = 50\n",
    "\n",
    "y1 = np.random.randn(nsamples) * 5 + 50\n",
    "y2 = y2 + 30 + np.random.randn(nsamples) # each y2 sample is generated based on corresponding y2 sample"
   ]
  },
  {
   "cell_type": "code",
   "execution_count": 41,
   "metadata": {},
   "outputs": [
    {
     "data": {
      "image/png": "[encoded data removed]",
      "text/plain": [
       "<Figure size 216x216 with 1 Axes>"
      ]
     },
     "metadata": {
      "needs_background": "light"
     },
     "output_type": "display_data"
    }
   ],
   "source": [
    "fig,ax = plt.subplots(figsize=(3,3))\n",
    "\n",
    "# don't forget to recalculate value for plot\n",
    "M = [np.mean(y1), np.mean(y2)]\n",
    "V = [np.std(y1), np.std(y2)]\n",
    "\n",
    "# bars with error bars\n",
    "ax.bar([1,2],M,yerr=V);\n",
    "ax.set(xticks=[1,2],xticklabels=['y1','y2']);\n",
    "\n",
    "# now data is paired, let's connect them\n",
    "ax.plot([1,2],np.vstack((y1,y2)),'.-',color=[0,0,0,0.1]);"
   ]
  },
  {
   "cell_type": "code",
   "execution_count": 43,
   "metadata": {},
   "outputs": [
    {
     "data": {
      "image/png": "[encoded data removed]",
      "text/plain": [
       "<Figure size 360x360 with 6 Axes>"
      ]
     },
     "metadata": {
      "needs_background": "light"
     },
     "output_type": "display_data"
    }
   ],
   "source": [
    "# to do this in seaborn\n",
    "df = pd.DataFrame(np.vstack((y1,y2)).T,columns = ['y1','y2']) # create a new table\n",
    "sns.pairplot(df);"
   ]
  }
 ],
 "metadata": {
  "kernelspec": {
   "display_name": "Python 3",
   "language": "python",
   "name": "python3"
  },
  "language_info": {
   "codemirror_mode": {
    "name": "ipython",
    "version": 3
   },
   "file_extension": ".py",
   "mimetype": "text/x-python",
   "name": "python",
   "nbconvert_exporter": "python",
   "pygments_lexer": "ipython3",
   "version": "3.7.4"
  }
 },
 "nbformat": 4,
 "nbformat_minor": 4
}
