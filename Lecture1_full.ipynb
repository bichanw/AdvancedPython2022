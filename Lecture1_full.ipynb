{
 "cells": [
  {
   "cell_type": "markdown",
   "metadata": {
    "id": "bcLZ1E_TBOFf"
   },
   "source": [
    "# Lecture 1: Visualization"
   ]
  },
  {
   "cell_type": "markdown",
   "metadata": {
    "id": "vG4dnAteBOFj"
   },
   "source": [
    "In this notebook we will learn about how to visualize data with different methods."
   ]
  },
  {
   "cell_type": "code",
   "execution_count": 1,
   "metadata": {
    "executionInfo": {
     "elapsed": 5,
     "status": "ok",
     "timestamp": 1656281794540,
     "user": {
      "displayName": "Bichan Wu",
      "userId": "07606282196905218147"
     },
     "user_tz": 240
    },
    "id": "yRoBHK4_BOFk"
   },
   "outputs": [],
   "source": [
    "# import some of our best friends\n",
    "import numpy as np\n",
    "import matplotlib.pyplot as plt\n",
    "import seaborn as sns # fancy plots\n",
    "import pandas as pd # fancy plots need to come from pd data structure"
   ]
  },
  {
   "cell_type": "markdown",
   "metadata": {
    "id": "8RuUcxp3BOFv"
   },
   "source": [
    "## Group Data"
   ]
  },
  {
   "cell_type": "markdown",
   "metadata": {
    "id": "6GjUK9GLBOFv"
   },
   "source": [
    "Compare 2 groups of independent data. This is useful in behavioral analysis (compare behavioral measurement, model performance...)"
   ]
  },
  {
   "cell_type": "markdown",
   "metadata": {
    "id": "cYI99xwOBOFw"
   },
   "source": [
    "Let's create some artificial dataset first. Simulate 2 random [Gaussian distributions](https://www.geogebra.org/m/fqZMa34Q)."
   ]
  },
  {
   "cell_type": "code",
   "execution_count": 2,
   "metadata": {
    "id": "z3GC2ZyUBOFw"
   },
   "outputs": [],
   "source": [
    "# simulate 2 groups with different mean and standard deviation\n",
    "nsamples = 50\n",
    "\n",
    "y1 = np.random.randn(nsamples) * 15 + 50\n",
    "y2 = np.random.randn(nsamples) * 13 + 70"
   ]
  },
  {
   "cell_type": "code",
   "execution_count": 3,
   "metadata": {
    "id": "uEVlcttlBOFw"
   },
   "outputs": [],
   "source": [
    "# calculate basic properties to plot\n",
    "M = [np.mean(y) for y in [y1,y2]] # mean\n",
    "V = [np.std(y) for y in [y1,y2]]  # variance"
   ]
  },
  {
   "cell_type": "markdown",
   "metadata": {
    "id": "a6UBbcFWBOFw"
   },
   "source": [
    "Bar plots!"
   ]
  },
  {
   "cell_type": "code",
   "execution_count": null,
   "metadata": {
    "colab": {
     "base_uri": "https://localhost:8080/",
     "height": 211
    },
    "executionInfo": {
     "elapsed": 491,
     "status": "ok",
     "timestamp": 1656280678443,
     "user": {
      "displayName": "Bichan Wu",
      "userId": "07606282196905218147"
     },
     "user_tz": 240
    },
    "id": "2MQz5YBlBOFx",
    "outputId": "d58888b1-17d6-4a77-9005-6e55a1890718"
   },
   "outputs": [
    {
     "data": {
      "image/png": "[encoded data removed]",
      "text/plain": [
       "<Figure size 432x216 with 2 Axes>"
      ]
     },
     "metadata": {
      "needs_background": "light"
     },
     "output_type": "display_data"
    }
   ],
   "source": [
    "# create 3 plots side by side\n",
    "fig,ax = plt.subplots(1,2, figsize=(6,3))\n",
    "\n",
    "# basic bar plot\n",
    "ax[0].bar([1,2],M);\n",
    "ax[0].set(xticks=[1,2],xticklabels=['y1','y2']);\n",
    "\n",
    "# add error bars\n",
    "ax[1].bar([1,2],M,yerr=V);\n",
    "ax[1].set(xticks=[1,2],xticklabels=['y1','y2']);"
   ]
  },
  {
   "cell_type": "markdown",
   "metadata": {
    "id": "eOuPXdhmBOFx"
   },
   "source": [
    "Fancy bar plots!"
   ]
  },
  {
   "cell_type": "code",
   "execution_count": null,
   "metadata": {
    "id": "8nLagboQBOFy"
   },
   "outputs": [],
   "source": [
    "# create a panda DataFrame - like a spreadsheet\n",
    "df = pd.DataFrame(np.vstack((y1,y2)).T,columns = ['y1','y2'])"
   ]
  },
  {
   "cell_type": "code",
   "execution_count": null,
   "metadata": {
    "colab": {
     "base_uri": "https://localhost:8080/",
     "height": 1000
    },
    "executionInfo": {
     "elapsed": 8,
     "status": "ok",
     "timestamp": 1656280681063,
     "user": {
      "displayName": "Bichan Wu",
      "userId": "07606282196905218147"
     },
     "user_tz": 240
    },
    "id": "UJh9hlzdBOFy",
    "outputId": "d07096f1-2d94-4f88-8c8b-3e81ac1205d1"
   },
   "outputs": [
    {
     "data": {
      "text/html": [
       "<div>\n",
       "<style scoped>\n",
       "    .dataframe tbody tr th:only-of-type {\n",
       "        vertical-align: middle;\n",
       "    }\n",
       "\n",
       "    .dataframe tbody tr th {\n",
       "        vertical-align: top;\n",
       "    }\n",
       "\n",
       "    .dataframe thead th {\n",
       "        text-align: right;\n",
       "    }\n",
       "</style>\n",
       "<table border=\"1\" class=\"dataframe\">\n",
       "  <thead>\n",
       "    <tr style=\"text-align: right;\">\n",
       "      <th></th>\n",
       "      <th>y1</th>\n",
       "      <th>y2</th>\n",
       "    </tr>\n",
       "  </thead>\n",
       "  <tbody>\n",
       "    <tr>\n",
       "      <td>0</td>\n",
       "      <td>61.919375</td>\n",
       "      <td>64.689652</td>\n",
       "    </tr>\n",
       "    <tr>\n",
       "      <td>1</td>\n",
       "      <td>68.808080</td>\n",
       "      <td>46.179721</td>\n",
       "    </tr>\n",
       "    <tr>\n",
       "      <td>2</td>\n",
       "      <td>42.573750</td>\n",
       "      <td>51.787871</td>\n",
       "    </tr>\n",
       "    <tr>\n",
       "      <td>3</td>\n",
       "      <td>49.152214</td>\n",
       "      <td>76.585216</td>\n",
       "    </tr>\n",
       "    <tr>\n",
       "      <td>4</td>\n",
       "      <td>30.363617</td>\n",
       "      <td>56.769631</td>\n",
       "    </tr>\n",
       "    <tr>\n",
       "      <td>5</td>\n",
       "      <td>35.458916</td>\n",
       "      <td>96.563903</td>\n",
       "    </tr>\n",
       "    <tr>\n",
       "      <td>6</td>\n",
       "      <td>57.271054</td>\n",
       "      <td>77.548851</td>\n",
       "    </tr>\n",
       "    <tr>\n",
       "      <td>7</td>\n",
       "      <td>49.636423</td>\n",
       "      <td>86.030785</td>\n",
       "    </tr>\n",
       "    <tr>\n",
       "      <td>8</td>\n",
       "      <td>51.602305</td>\n",
       "      <td>90.093717</td>\n",
       "    </tr>\n",
       "    <tr>\n",
       "      <td>9</td>\n",
       "      <td>41.473329</td>\n",
       "      <td>74.897606</td>\n",
       "    </tr>\n",
       "    <tr>\n",
       "      <td>10</td>\n",
       "      <td>65.400816</td>\n",
       "      <td>79.571706</td>\n",
       "    </tr>\n",
       "    <tr>\n",
       "      <td>11</td>\n",
       "      <td>23.319369</td>\n",
       "      <td>50.346846</td>\n",
       "    </tr>\n",
       "    <tr>\n",
       "      <td>12</td>\n",
       "      <td>56.436070</td>\n",
       "      <td>60.211808</td>\n",
       "    </tr>\n",
       "    <tr>\n",
       "      <td>13</td>\n",
       "      <td>37.455599</td>\n",
       "      <td>89.591366</td>\n",
       "    </tr>\n",
       "    <tr>\n",
       "      <td>14</td>\n",
       "      <td>64.074937</td>\n",
       "      <td>69.578775</td>\n",
       "    </tr>\n",
       "    <tr>\n",
       "      <td>15</td>\n",
       "      <td>54.171836</td>\n",
       "      <td>61.092161</td>\n",
       "    </tr>\n",
       "    <tr>\n",
       "      <td>16</td>\n",
       "      <td>38.214380</td>\n",
       "      <td>77.726333</td>\n",
       "    </tr>\n",
       "    <tr>\n",
       "      <td>17</td>\n",
       "      <td>58.349563</td>\n",
       "      <td>84.961205</td>\n",
       "    </tr>\n",
       "    <tr>\n",
       "      <td>18</td>\n",
       "      <td>59.409479</td>\n",
       "      <td>62.565942</td>\n",
       "    </tr>\n",
       "    <tr>\n",
       "      <td>19</td>\n",
       "      <td>24.463804</td>\n",
       "      <td>60.737495</td>\n",
       "    </tr>\n",
       "    <tr>\n",
       "      <td>20</td>\n",
       "      <td>56.112220</td>\n",
       "      <td>71.541304</td>\n",
       "    </tr>\n",
       "    <tr>\n",
       "      <td>21</td>\n",
       "      <td>62.212420</td>\n",
       "      <td>72.951692</td>\n",
       "    </tr>\n",
       "    <tr>\n",
       "      <td>22</td>\n",
       "      <td>32.910308</td>\n",
       "      <td>56.627098</td>\n",
       "    </tr>\n",
       "    <tr>\n",
       "      <td>23</td>\n",
       "      <td>39.684188</td>\n",
       "      <td>78.055868</td>\n",
       "    </tr>\n",
       "    <tr>\n",
       "      <td>24</td>\n",
       "      <td>61.153080</td>\n",
       "      <td>78.015744</td>\n",
       "    </tr>\n",
       "    <tr>\n",
       "      <td>25</td>\n",
       "      <td>35.583044</td>\n",
       "      <td>52.326675</td>\n",
       "    </tr>\n",
       "    <tr>\n",
       "      <td>26</td>\n",
       "      <td>41.742006</td>\n",
       "      <td>81.813571</td>\n",
       "    </tr>\n",
       "    <tr>\n",
       "      <td>27</td>\n",
       "      <td>47.521304</td>\n",
       "      <td>66.415431</td>\n",
       "    </tr>\n",
       "    <tr>\n",
       "      <td>28</td>\n",
       "      <td>77.976849</td>\n",
       "      <td>70.171718</td>\n",
       "    </tr>\n",
       "    <tr>\n",
       "      <td>29</td>\n",
       "      <td>54.078694</td>\n",
       "      <td>94.869088</td>\n",
       "    </tr>\n",
       "    <tr>\n",
       "      <td>30</td>\n",
       "      <td>65.081943</td>\n",
       "      <td>51.854754</td>\n",
       "    </tr>\n",
       "    <tr>\n",
       "      <td>31</td>\n",
       "      <td>42.781289</td>\n",
       "      <td>70.968801</td>\n",
       "    </tr>\n",
       "    <tr>\n",
       "      <td>32</td>\n",
       "      <td>37.327132</td>\n",
       "      <td>63.803005</td>\n",
       "    </tr>\n",
       "    <tr>\n",
       "      <td>33</td>\n",
       "      <td>38.928127</td>\n",
       "      <td>82.546193</td>\n",
       "    </tr>\n",
       "    <tr>\n",
       "      <td>34</td>\n",
       "      <td>50.478467</td>\n",
       "      <td>79.604417</td>\n",
       "    </tr>\n",
       "    <tr>\n",
       "      <td>35</td>\n",
       "      <td>47.553080</td>\n",
       "      <td>64.539674</td>\n",
       "    </tr>\n",
       "    <tr>\n",
       "      <td>36</td>\n",
       "      <td>57.827405</td>\n",
       "      <td>94.155259</td>\n",
       "    </tr>\n",
       "    <tr>\n",
       "      <td>37</td>\n",
       "      <td>64.149988</td>\n",
       "      <td>51.671507</td>\n",
       "    </tr>\n",
       "    <tr>\n",
       "      <td>38</td>\n",
       "      <td>47.669097</td>\n",
       "      <td>74.074561</td>\n",
       "    </tr>\n",
       "    <tr>\n",
       "      <td>39</td>\n",
       "      <td>53.965877</td>\n",
       "      <td>87.651959</td>\n",
       "    </tr>\n",
       "    <tr>\n",
       "      <td>40</td>\n",
       "      <td>20.482422</td>\n",
       "      <td>57.489456</td>\n",
       "    </tr>\n",
       "    <tr>\n",
       "      <td>41</td>\n",
       "      <td>24.821032</td>\n",
       "      <td>55.643931</td>\n",
       "    </tr>\n",
       "    <tr>\n",
       "      <td>42</td>\n",
       "      <td>76.783372</td>\n",
       "      <td>65.163761</td>\n",
       "    </tr>\n",
       "    <tr>\n",
       "      <td>43</td>\n",
       "      <td>48.432611</td>\n",
       "      <td>61.349750</td>\n",
       "    </tr>\n",
       "    <tr>\n",
       "      <td>44</td>\n",
       "      <td>32.629862</td>\n",
       "      <td>89.384932</td>\n",
       "    </tr>\n",
       "    <tr>\n",
       "      <td>45</td>\n",
       "      <td>28.076390</td>\n",
       "      <td>81.830053</td>\n",
       "    </tr>\n",
       "    <tr>\n",
       "      <td>46</td>\n",
       "      <td>52.783317</td>\n",
       "      <td>48.356859</td>\n",
       "    </tr>\n",
       "    <tr>\n",
       "      <td>47</td>\n",
       "      <td>47.724150</td>\n",
       "      <td>65.683887</td>\n",
       "    </tr>\n",
       "    <tr>\n",
       "      <td>48</td>\n",
       "      <td>39.366740</td>\n",
       "      <td>72.155995</td>\n",
       "    </tr>\n",
       "    <tr>\n",
       "      <td>49</td>\n",
       "      <td>38.375919</td>\n",
       "      <td>53.099909</td>\n",
       "    </tr>\n",
       "  </tbody>\n",
       "</table>\n",
       "</div>"
      ],
      "text/plain": [
       "           y1         y2\n",
       "0   61.919375  64.689652\n",
       "1   68.808080  46.179721\n",
       "2   42.573750  51.787871\n",
       "3   49.152214  76.585216\n",
       "4   30.363617  56.769631\n",
       "5   35.458916  96.563903\n",
       "6   57.271054  77.548851\n",
       "7   49.636423  86.030785\n",
       "8   51.602305  90.093717\n",
       "9   41.473329  74.897606\n",
       "10  65.400816  79.571706\n",
       "11  23.319369  50.346846\n",
       "12  56.436070  60.211808\n",
       "13  37.455599  89.591366\n",
       "14  64.074937  69.578775\n",
       "15  54.171836  61.092161\n",
       "16  38.214380  77.726333\n",
       "17  58.349563  84.961205\n",
       "18  59.409479  62.565942\n",
       "19  24.463804  60.737495\n",
       "20  56.112220  71.541304\n",
       "21  62.212420  72.951692\n",
       "22  32.910308  56.627098\n",
       "23  39.684188  78.055868\n",
       "24  61.153080  78.015744\n",
       "25  35.583044  52.326675\n",
       "26  41.742006  81.813571\n",
       "27  47.521304  66.415431\n",
       "28  77.976849  70.171718\n",
       "29  54.078694  94.869088\n",
       "30  65.081943  51.854754\n",
       "31  42.781289  70.968801\n",
       "32  37.327132  63.803005\n",
       "33  38.928127  82.546193\n",
       "34  50.478467  79.604417\n",
       "35  47.553080  64.539674\n",
       "36  57.827405  94.155259\n",
       "37  64.149988  51.671507\n",
       "38  47.669097  74.074561\n",
       "39  53.965877  87.651959\n",
       "40  20.482422  57.489456\n",
       "41  24.821032  55.643931\n",
       "42  76.783372  65.163761\n",
       "43  48.432611  61.349750\n",
       "44  32.629862  89.384932\n",
       "45  28.076390  81.830053\n",
       "46  52.783317  48.356859\n",
       "47  47.724150  65.683887\n",
       "48  39.366740  72.155995\n",
       "49  38.375919  53.099909"
      ]
     },
     "execution_count": 6,
     "metadata": {},
     "output_type": "execute_result"
    }
   ],
   "source": [
    "# view the spreadsheet\n",
    "df"
   ]
  },
  {
   "cell_type": "code",
   "execution_count": null,
   "metadata": {
    "colab": {
     "base_uri": "https://localhost:8080/",
     "height": 211
    },
    "executionInfo": {
     "elapsed": 370,
     "status": "ok",
     "timestamp": 1656280688942,
     "user": {
      "displayName": "Bichan Wu",
      "userId": "07606282196905218147"
     },
     "user_tz": 240
    },
    "id": "PR05XYvHBOFz",
    "outputId": "a9f14cc3-a149-4ca5-c7da-2c38e6de493e"
   },
   "outputs": [
    {
     "data": {
      "image/png": "[encoded data removed]",
      "text/plain": [
       "<Figure size 288x216 with 1 Axes>"
      ]
     },
     "metadata": {
      "needs_background": "light"
     },
     "output_type": "display_data"
    }
   ],
   "source": [
    "# plotting is quicker\n",
    "fig,ax = plt.subplots(figsize=(4,3))\n",
    "sns.barplot(data=df); \n",
    "# we can see there's a shorter error bar here, for that sns plots standard error instead of standard deviation (std / (n_sample-1))\n",
    "\n",
    "# and now we add visualization of individual points\n",
    "sns.swarmplot(data=df,color=\"0\", alpha=.35);"
   ]
  },
  {
   "cell_type": "code",
   "execution_count": null,
   "metadata": {
    "id": "bishD3yiBOF0"
   },
   "outputs": [],
   "source": [
    "# Homework: try doing this in matlibplot"
   ]
  },
  {
   "cell_type": "code",
   "execution_count": null,
   "metadata": {
    "colab": {
     "base_uri": "https://localhost:8080/",
     "height": 265
    },
    "executionInfo": {
     "elapsed": 369,
     "status": "ok",
     "timestamp": 1656280690830,
     "user": {
      "displayName": "Bichan Wu",
      "userId": "07606282196905218147"
     },
     "user_tz": 240
    },
    "id": "tKzM5p6HBOF1",
    "outputId": "1b278a2d-ac0c-4152-d0a4-e50c5918e822"
   },
   "outputs": [
    {
     "data": {
      "image/png": "[encoded data removed]",
      "text/plain": [
       "<Figure size 432x288 with 1 Axes>"
      ]
     },
     "metadata": {
      "needs_background": "light"
     },
     "output_type": "display_data"
    }
   ],
   "source": [
    "# violin plot\n",
    "sns.violinplot(data=df);"
   ]
  },
  {
   "cell_type": "code",
   "execution_count": 4,
   "metadata": {
    "colab": {
     "base_uri": "https://localhost:8080/",
     "height": 313
    },
    "executionInfo": {
     "elapsed": 551,
     "status": "ok",
     "timestamp": 1656280692995,
     "user": {
      "displayName": "Bichan Wu",
      "userId": "07606282196905218147"
     },
     "user_tz": 240
    },
    "id": "MzWUspQHBOF3",
    "outputId": "a5933227-eb18-4690-f2af-a7418438bc43"
   },
   "outputs": [
    {
     "data": {
      "image/png": "[encoded data removed]",
      "text/plain": [
       "<Figure size 504x216 with 2 Axes>"
      ]
     },
     "metadata": {
      "needs_background": "light"
     },
     "output_type": "display_data"
    }
   ],
   "source": [
    "# histogram\n",
    "fig,ax = plt.subplots(1,2,figsize=(7,3))\n",
    "\n",
    "# seaborn histogram\n",
    "h1 = sns.distplot(a=y1,ax=ax[0]);\n",
    "h2 = sns.distplot(a=y2,ax=ax[0]);\n",
    "ax[0].set(xlabel='y')\n",
    "ax[0].legend(['y1','y2']);\n",
    "\n",
    "# matplotlib histogram\n",
    "ax[1].hist(y1);\n",
    "ax[1].hist(y2);\n",
    "ax[1].legend(['y1','y2']);"
   ]
  },
  {
   "cell_type": "markdown",
   "metadata": {
    "id": "wc9iSKwaBOF3"
   },
   "source": [
    "Last but not the least, statistical test:"
   ]
  },
  {
   "cell_type": "code",
   "execution_count": null,
   "metadata": {
    "colab": {
     "base_uri": "https://localhost:8080/"
    },
    "executionInfo": {
     "elapsed": 155,
     "status": "ok",
     "timestamp": 1656280695144,
     "user": {
      "displayName": "Bichan Wu",
      "userId": "07606282196905218147"
     },
     "user_tz": 240
    },
    "id": "FTbN8JUcBOF4",
    "outputId": "975264eb-ed82-46dc-c475-7d25aee54baf"
   },
   "outputs": [
    {
     "data": {
      "text/plain": [
       "Ttest_indResult(statistic=-8.160788086019362, pvalue=1.1501092512894758e-12)"
      ]
     },
     "execution_count": 11,
     "metadata": {},
     "output_type": "execute_result"
    }
   ],
   "source": [
    "from scipy.stats import ttest_ind\n",
    "ttest_ind(y1,y2)"
   ]
  },
  {
   "cell_type": "markdown",
   "metadata": {
    "id": "L_zWpHiFBOF4"
   },
   "source": [
    "## Paired group test"
   ]
  },
  {
   "cell_type": "code",
   "execution_count": null,
   "metadata": {
    "id": "RE1i9kxcBOF5"
   },
   "outputs": [],
   "source": [
    "# simulate 2 groups with different mean and standard deviation\n",
    "nsamples = 50\n",
    "\n",
    "y1 = np.random.randn(nsamples) * 5 + 50\n",
    "y2 = y2 + 30 + np.random.randn(nsamples) # each y2 sample is generated based on corresponding y2 sample"
   ]
  },
  {
   "cell_type": "code",
   "execution_count": null,
   "metadata": {
    "colab": {
     "base_uri": "https://localhost:8080/",
     "height": 211
    },
    "executionInfo": {
     "elapsed": 314,
     "status": "ok",
     "timestamp": 1656280700392,
     "user": {
      "displayName": "Bichan Wu",
      "userId": "07606282196905218147"
     },
     "user_tz": 240
    },
    "id": "Tyg0HokdBOF5",
    "outputId": "95a621e4-dae3-440a-980d-9e0f97651c40"
   },
   "outputs": [
    {
     "data": {
      "image/png": "[encoded data removed]",
      "text/plain": [
       "<Figure size 216x216 with 1 Axes>"
      ]
     },
     "metadata": {
      "needs_background": "light"
     },
     "output_type": "display_data"
    }
   ],
   "source": [
    "fig,ax = plt.subplots(figsize=(3,3))\n",
    "\n",
    "# don't forget to recalculate value for plot\n",
    "M = [np.mean(y1), np.mean(y2)]\n",
    "V = [np.std(y1), np.std(y2)]\n",
    "\n",
    "# bars with error bars\n",
    "ax.bar([1,2],M,yerr=V);\n",
    "ax.set(xticks=[1,2],xticklabels=['y1','y2']);\n",
    "\n",
    "# now data is paired, let's connect them\n",
    "ax.plot([1,2],np.vstack((y1,y2)),'.-',color=[0,0,0,0.1]);"
   ]
  },
  {
   "cell_type": "code",
   "execution_count": null,
   "metadata": {
    "colab": {
     "base_uri": "https://localhost:8080/",
     "height": 374
    },
    "executionInfo": {
     "elapsed": 4022,
     "status": "ok",
     "timestamp": 1656280704586,
     "user": {
      "displayName": "Bichan Wu",
      "userId": "07606282196905218147"
     },
     "user_tz": 240
    },
    "id": "QBlYwkTUBOF5",
    "outputId": "df4851bc-cc09-4414-a72f-d8f32fa2c85f"
   },
   "outputs": [
    {
     "data": {
      "image/png": "[encoded data removed]",
      "text/plain": [
       "<Figure size 360x360 with 6 Axes>"
      ]
     },
     "metadata": {
      "needs_background": "light"
     },
     "output_type": "display_data"
    }
   ],
   "source": [
    "# to do this in seaborn\n",
    "df = pd.DataFrame(np.vstack((y1,y2)).T,columns = ['y1','y2']) # create a new table\n",
    "sns.pairplot(df);"
   ]
  },
  {
   "cell_type": "markdown",
   "metadata": {
    "id": "1SiqqYp1BOFr"
   },
   "source": [
    "## Time series data"
   ]
  },
  {
   "cell_type": "markdown",
   "metadata": {
    "id": "fxnfFUVABOFr"
   },
   "source": [
    "General electrophysiological data (LFP, EEG), calcium signal."
   ]
  },
  {
   "cell_type": "code",
   "execution_count": null,
   "metadata": {
    "id": "HT-ynz_kBOFs"
   },
   "outputs": [],
   "source": [
    "# simplest example: sine wave with noise\n",
    "\n",
    "# create sample data\n",
    "Fs = 1000 # sampling frequency\n",
    "t = np.arange(0,0.3, 1/Fs)  # create time axis"
   ]
  },
  {
   "cell_type": "code",
   "execution_count": null,
   "metadata": {
    "id": "J4YOJiG-BOFs"
   },
   "outputs": [],
   "source": [
    "# start with 1 sine wave\n",
    "# y = 0.7 * np.sin(2*np.pi*50*t)\n",
    "# or 2\n",
    "y = 0.7 * np.sin(2*np.pi*50*t + np.pi/8) + np.sin(2*np.pi*120*t)"
   ]
  },
  {
   "cell_type": "code",
   "execution_count": null,
   "metadata": {
    "id": "k7rmU6syBOFt",
    "outputId": "c41cda1d-d636-43bb-8805-ed5f84c890b5"
   },
   "outputs": [
    {
     "data": {
      "image/png": "[encoded data removed]",
      "text/plain": [
       "<Figure size 432x288 with 1 Axes>"
      ]
     },
     "metadata": {
      "needs_background": "light"
     },
     "output_type": "display_data"
    }
   ],
   "source": [
    "fig,ax = plt.subplots()\n",
    "ax.plot(t,y)\n",
    "ax.set(xlabel='time (s)', ylabel='signal',xlim=[0,0.1]);"
   ]
  },
  {
   "cell_type": "markdown",
   "metadata": {
    "id": "-vIKyAW8BOFt"
   },
   "source": [
    "Frequency analysis"
   ]
  },
  {
   "cell_type": "code",
   "execution_count": null,
   "metadata": {
    "id": "mSU69NdKBOFu"
   },
   "outputs": [],
   "source": [
    "# compute fast fourier transformation\n",
    "sp = np.fft.fft(y)\n",
    "freq = np.fft.fftfreq(t.shape[-1],1/Fs)"
   ]
  },
  {
   "cell_type": "code",
   "execution_count": null,
   "metadata": {
    "id": "ckuQs6wsBOFu",
    "outputId": "85e28b57-b4ee-4449-ee93-d07f4133448e"
   },
   "outputs": [
    {
     "data": {
      "image/png": "[encoded data removed]",
      "text/plain": [
       "<Figure size 432x288 with 1 Axes>"
      ]
     },
     "metadata": {
      "needs_background": "light"
     },
     "output_type": "display_data"
    }
   ],
   "source": [
    "# plot in fourier domain\n",
    "fig,ax = plt.subplots()\n",
    "ax.plot(freq,np.abs(sp));\n",
    "ax.set(xlim=[0,max(freq)], xlabel='Frequency (Hz)', ylabel='Power');"
   ]
  },
  {
   "cell_type": "markdown",
   "metadata": {
    "id": "Dr3JF1-xBOFv"
   },
   "source": [
    "Check out [MNE](https://mne.tools/stable/index.html#) for more details (or bring your data on Friday)."
   ]
  },
  {
   "cell_type": "markdown",
   "metadata": {
    "id": "Mcw2En2HBOFl"
   },
   "source": [
    "## Spiking data"
   ]
  },
  {
   "cell_type": "code",
   "execution_count": 20,
   "metadata": {
    "executionInfo": {
     "elapsed": 157,
     "status": "ok",
     "timestamp": 1656281840897,
     "user": {
      "displayName": "Bichan Wu",
      "userId": "07606282196905218147"
     },
     "user_tz": 240
    },
    "id": "RfSfQhEGBOFm"
   },
   "outputs": [],
   "source": [
    "# load sample datas\n",
    "spiketime = np.load('spiketime.npy')\n",
    "eventtime = np.load('eventtime.npy')"
   ]
  },
  {
   "cell_type": "code",
   "execution_count": 21,
   "metadata": {
    "colab": {
     "base_uri": "https://localhost:8080/"
    },
    "executionInfo": {
     "elapsed": 164,
     "status": "ok",
     "timestamp": 1656281842696,
     "user": {
      "displayName": "Bichan Wu",
      "userId": "07606282196905218147"
     },
     "user_tz": 240
    },
    "id": "fLX2X4twBOFm",
    "outputId": "991844ea-7a7d-4cfb-c748-17f9ab16c35d"
   },
   "outputs": [
    {
     "name": "stdout",
     "output_type": "stream",
     "text": [
      "Spike time contains a vector with n elements, each corresponding to the time stamp of one spike.\n",
      "Event time corresponds to time stamps of event of interest.\n",
      "22235 spikes in total\n",
      "Check time stamps of first 5 spike:\n",
      "[[0.05069955]\n",
      " [0.08463259]\n",
      " [0.1211656 ]\n",
      " [0.14586538]\n",
      " [0.16779852]]\n"
     ]
    }
   ],
   "source": [
    "print('Spike time contains a vector with n elements, each corresponding to the time stamp of one spike.')\n",
    "print('Event time corresponds to time stamps of event of interest.')\n",
    "print(f'{spiketime.shape[0]} spikes in total')\n",
    "\n",
    "print('Check time stamps of first 5 spike:')\n",
    "print(spiketime[:5])"
   ]
  },
  {
   "cell_type": "markdown",
   "metadata": {
    "id": "SwnoDYkWBOFo"
   },
   "source": [
    "Raster plot:"
   ]
  },
  {
   "cell_type": "code",
   "execution_count": null,
   "metadata": {
    "id": "kzXGFWelBOFo"
   },
   "outputs": [],
   "source": [
    "# select time window of interest:\n",
    "toi = np.array([-0.1,1])"
   ]
  },
  {
   "cell_type": "code",
   "execution_count": null,
   "metadata": {
    "id": "gATOUfpaBOFp",
    "outputId": "1b336989-eb93-414a-cd7d-d4052be205dd"
   },
   "outputs": [
    {
     "data": {
      "text/plain": [
       "array([1.03505756, 1.09122373, 1.63958557, 1.8147507 ])"
      ]
     },
     "execution_count": 23,
     "metadata": {},
     "output_type": "execute_result"
    }
   ],
   "source": [
    "# collect spikes within certain time point (e.g. t=1 ~ t=2)\n",
    "spiketime[(spiketime<2) & (spiketime>=1)]"
   ]
  },
  {
   "cell_type": "code",
   "execution_count": null,
   "metadata": {
    "id": "niPVtgk6BOFp"
   },
   "outputs": [],
   "source": [
    "# collect spikes within time window\n",
    "tspk = [spiketime[(spiketime<t+toi[1]) & (spiketime>=t+toi[0])]-t for t in eventtime]"
   ]
  },
  {
   "cell_type": "code",
   "execution_count": null,
   "metadata": {
    "id": "8FlxgakFBOFq",
    "outputId": "088d62b4-0384-4004-a471-ce547587d071"
   },
   "outputs": [
    {
     "data": {
      "image/png": "[encoded data removed]",
      "text/plain": [
       "<Figure size 432x288 with 1 Axes>"
      ]
     },
     "metadata": {
      "needs_background": "light"
     },
     "output_type": "display_data"
    }
   ],
   "source": [
    "plt.eventplot(tspk);"
   ]
  },
  {
   "cell_type": "code",
   "execution_count": null,
   "metadata": {
    "id": "3QGm5b4wBOFq"
   },
   "outputs": [],
   "source": [
    "# Homework: make this into a function\n",
    "# so you can run plot_raster(spiketime, eventtime)"
   ]
  }
 ],
 "metadata": {
  "colab": {
   "name": "Lecture1.ipynb",
   "provenance": []
  },
  "kernelspec": {
   "display_name": "Python 3",
   "language": "python",
   "name": "python3"
  },
  "language_info": {
   "codemirror_mode": {
    "name": "ipython",
    "version": 3
   },
   "file_extension": ".py",
   "mimetype": "text/x-python",
   "name": "python",
   "nbconvert_exporter": "python",
   "pygments_lexer": "ipython3",
   "version": "3.7.4"
  }
 },
 "nbformat": 4,
 "nbformat_minor": 4
}
